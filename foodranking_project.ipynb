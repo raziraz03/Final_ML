{
  "cells": [
    {
      "cell_type": "markdown",
      "metadata": {
        "id": "view-in-github",
        "colab_type": "text"
      },
      "source": [
        "<a href=\"https://colab.research.google.com/github/raziraz03/Final_ML/blob/main/foodranking_project.ipynb\" target=\"_parent\"><img src=\"https://colab.research.google.com/assets/colab-badge.svg\" alt=\"Open In Colab\"/></a>"
      ]
    },
    {
      "cell_type": "markdown",
      "source": [
        "**Asses the performance of Food in a Restaurant**"
      ],
      "metadata": {
        "id": "S-mjM-VPTj-C"
      }
    },
    {
      "cell_type": "markdown",
      "source": [
        "**Objective**\n",
        "\n",
        "**The objective of this project is to evaluate user feedback across the 18,182 recipe reviews to assess the performance of dishes in the dataset, identify common user behaviors, and provide insights for recipe improvement or curation. Specifically, the analysis seeks to:**\n",
        "\n",
        "     \n",
        "\n",
        "*   Measure overall user satisfaction and engagement across recipes based on ratings and interaction metrics.\n",
        "*   Identify patterns in user feedback, such as frequent modifications or recurring issues, that apply to multiple dishes.\n",
        "*   Assess the  distribution of recipes using identifiers like recipe_number and recipe_code.\n",
        "*  Find the best dish by analyzing the user input like thumpsup,thumps down,stars\n",
        "\n",
        "\n",
        "    \n",
        "    \n",
        "    "
      ],
      "metadata": {
        "id": "1upTUgqGWO80"
      }
    },
    {
      "cell_type": "markdown",
      "source": [
        "**Below are the libraries used for the project**"
      ],
      "metadata": {
        "id": "zcUOVhWFWy_m"
      }
    },
    {
      "cell_type": "markdown",
      "source": [
        "**Plugins used till creating ML including graphical representation following plugins are used**\n",
        "\n",
        "\n",
        "```\n",
        "import pandas as pd\n",
        "import numpy as np\n",
        "import matplotlib.pyplot as plt\n",
        "import seaborn as sns\n",
        "from scipy.stats import skew,zscore,boxcox\n",
        "from sklearn.preprocessing import MinMaxScaler,OneHotEncoder,PowerTransformer\n",
        "from scipy.stats.mstats import winsorize\n",
        "from sklearn.feature_selection import SelectKBest,f_classif\n",
        "from sklearn.model_selection import train_test_split\n",
        "```\n",
        "\n",
        "**Plugins used for ML algorithams and validation are**\n",
        "\n",
        "\n",
        "```\n",
        "from sklearn.linear_model import LinearRegression\n",
        "from sklearn.ensemble import GradientBoostingRegressor,RandomForestRegressor\n",
        "from sklearn.tree import DecisionTreeRegressor\n",
        "from sklearn.svm import SVR\n",
        "```\n",
        "\n",
        "\n"
      ],
      "metadata": {
        "id": "ND8hy8B0Xj4f"
      }
    },
    {
      "cell_type": "code",
      "execution_count": 1,
      "metadata": {
        "id": "P_Q_ffPwQQcb"
      },
      "outputs": [],
      "source": [
        "import pandas as pd\n",
        "import numpy as np\n",
        "import matplotlib.pyplot as plt\n",
        "import seaborn as sns\n",
        "from scipy.stats import skew,zscore,boxcox\n",
        "from sklearn.preprocessing import MinMaxScaler,OneHotEncoder,PowerTransformer\n",
        "from scipy.stats.mstats import winsorize\n",
        "from sklearn.feature_selection import SelectKBest,f_classif\n",
        "from sklearn.model_selection import train_test_split\n",
        "from sklearn.metrics import mean_absolute_error,r2_score,mean_squared_error\n",
        "from sklearn.linear_model import LinearRegression\n",
        "from sklearn.ensemble import GradientBoostingRegressor,RandomForestRegressor\n",
        "from sklearn.tree import DecisionTreeRegressor\n",
        "from sklearn.svm import SVR\n",
        "from scipy import stats\n",
        "import warnings\n",
        "warnings.filterwarnings('ignore')\n",
        "\n",
        "from sklearn.pipeline import Pipeline\n",
        "from sklearn.impute import SimpleImputer"
      ]
    },
    {
      "cell_type": "markdown",
      "source": [
        "**Loading Data**\n"
      ],
      "metadata": {
        "id": "J7ANKYHj-LyL"
      }
    },
    {
      "cell_type": "markdown",
      "source": [
        "Data can be loaded from different sources\n",
        "\n",
        "*   pd.read_json('Recipedata.json', orient='records')\n",
        "*   pd.read_csv('Recipedata.csv')\n",
        "*   pd.read_sql(query, con, ...)\n",
        "*   pd.read_excell(io, ...)\n",
        "*   pd.read_pickle(filepath_or_buffer, ...)\n",
        "*   pd.read_table(filepath_or_buffer, ...)\n",
        "*   pd.read_html(io, ...)\n",
        "*   pd.read_feather(filepath_or_buffer, ...)\n",
        "*   pd.read_parquet(path, ...)\n",
        "*   pd.read_hdf(path_or_buf, key, ...)"
      ],
      "metadata": {
        "id": "ogoLKS-9D5_8"
      }
    },
    {
      "cell_type": "code",
      "source": [
        "#loading data\n",
        "data= pd.read_csv('Recipedata.csv')"
      ],
      "metadata": {
        "id": "-E3YV-ht_c2V"
      },
      "execution_count": 2,
      "outputs": []
    },
    {
      "cell_type": "markdown",
      "source": [
        "**Starting EDA and Pre-Processing**"
      ],
      "metadata": {
        "id": "l2fpEyuiE_o9"
      }
    },
    {
      "cell_type": "markdown",
      "source": [
        "Here we start with .info to print the total number of column with what each  column is about like the datatype,notnull or not  etc.."
      ],
      "metadata": {
        "id": "nU4kuFY0FMGi"
      }
    },
    {
      "cell_type": "code",
      "execution_count": 3,
      "metadata": {
        "colab": {
          "base_uri": "https://localhost:8080/"
        },
        "id": "9_X3UF0IdukF",
        "outputId": "29af9ce7-9bb2-4900-bf26-ec6dfbcdc608"
      },
      "outputs": [
        {
          "output_type": "stream",
          "name": "stdout",
          "text": [
            "<class 'pandas.core.frame.DataFrame'>\n",
            "RangeIndex: 18182 entries, 0 to 18181\n",
            "Data columns (total 15 columns):\n",
            " #   Column           Non-Null Count  Dtype \n",
            "---  ------           --------------  ----- \n",
            " 0   Unnamed: 0       18182 non-null  int64 \n",
            " 1   recipe_number    18182 non-null  int64 \n",
            " 2   recipe_code      18182 non-null  int64 \n",
            " 3   recipe_name      18182 non-null  object\n",
            " 4   comment_id       18182 non-null  object\n",
            " 5   user_id          18182 non-null  object\n",
            " 6   user_name        18182 non-null  object\n",
            " 7   user_reputation  18182 non-null  int64 \n",
            " 8   created_at       18182 non-null  int64 \n",
            " 9   reply_count      18182 non-null  int64 \n",
            " 10  thumbs_up        18182 non-null  int64 \n",
            " 11  thumbs_down      18182 non-null  int64 \n",
            " 12  stars            18182 non-null  int64 \n",
            " 13  best_score       18182 non-null  int64 \n",
            " 14  text             18180 non-null  object\n",
            "dtypes: int64(10), object(5)\n",
            "memory usage: 2.1+ MB\n"
          ]
        }
      ],
      "source": [
        "data.info()\n"
      ]
    },
    {
      "cell_type": "markdown",
      "source": [
        "Here .describe used to find out the advanced details of the table like mean,median,count quantile range thiss whill help us to find out how the data is dealing  like outliers etc.."
      ],
      "metadata": {
        "id": "5lbeRDIXFt13"
      }
    },
    {
      "cell_type": "code",
      "execution_count": 4,
      "metadata": {
        "colab": {
          "base_uri": "https://localhost:8080/",
          "height": 320
        },
        "id": "LEzlG5gmd05P",
        "outputId": "fee3a385-0cf9-4bd6-959d-6c749930969c"
      },
      "outputs": [
        {
          "output_type": "execute_result",
          "data": {
            "text/plain": [
              "         Unnamed: 0  recipe_number    recipe_code  user_reputation  \\\n",
              "count  18182.000000   18182.000000   18182.000000     18182.000000   \n",
              "mean     121.465295      38.689363   21773.667253         2.159608   \n",
              "std      116.747893      29.786647   23965.109637        10.014666   \n",
              "min        0.000000       1.000000     386.000000         0.000000   \n",
              "25%       45.000000      12.000000    6086.000000         1.000000   \n",
              "50%       91.000000      33.000000   14600.000000         1.000000   \n",
              "75%      150.000000      64.000000   33121.000000         1.000000   \n",
              "max      724.000000     100.000000  191775.000000       520.000000   \n",
              "\n",
              "         created_at   reply_count     thumbs_up   thumbs_down         stars  \\\n",
              "count  1.818200e+04  18182.000000  18182.000000  18182.000000  18182.000000   \n",
              "mean   1.623710e+09      0.014630      1.089264      0.549335      4.288802   \n",
              "std    5.468697e+06      0.137974      4.201004      3.470124      1.544786   \n",
              "min    1.613035e+09      0.000000      0.000000      0.000000      0.000000   \n",
              "25%    1.622717e+09      0.000000      0.000000      0.000000      5.000000   \n",
              "50%    1.622718e+09      0.000000      0.000000      0.000000      5.000000   \n",
              "75%    1.622718e+09      0.000000      0.000000      0.000000      5.000000   \n",
              "max    1.665756e+09      3.000000    106.000000    126.000000      5.000000   \n",
              "\n",
              "         best_score  \n",
              "count  18182.000000  \n",
              "mean     153.162138  \n",
              "std      141.075316  \n",
              "min        0.000000  \n",
              "25%      100.000000  \n",
              "50%      100.000000  \n",
              "75%      100.000000  \n",
              "max      946.000000  "
            ],
            "text/html": [
              "\n",
              "  <div id=\"df-dcb3db83-dcb1-4930-93c8-e125a5036163\" class=\"colab-df-container\">\n",
              "    <div>\n",
              "<style scoped>\n",
              "    .dataframe tbody tr th:only-of-type {\n",
              "        vertical-align: middle;\n",
              "    }\n",
              "\n",
              "    .dataframe tbody tr th {\n",
              "        vertical-align: top;\n",
              "    }\n",
              "\n",
              "    .dataframe thead th {\n",
              "        text-align: right;\n",
              "    }\n",
              "</style>\n",
              "<table border=\"1\" class=\"dataframe\">\n",
              "  <thead>\n",
              "    <tr style=\"text-align: right;\">\n",
              "      <th></th>\n",
              "      <th>Unnamed: 0</th>\n",
              "      <th>recipe_number</th>\n",
              "      <th>recipe_code</th>\n",
              "      <th>user_reputation</th>\n",
              "      <th>created_at</th>\n",
              "      <th>reply_count</th>\n",
              "      <th>thumbs_up</th>\n",
              "      <th>thumbs_down</th>\n",
              "      <th>stars</th>\n",
              "      <th>best_score</th>\n",
              "    </tr>\n",
              "  </thead>\n",
              "  <tbody>\n",
              "    <tr>\n",
              "      <th>count</th>\n",
              "      <td>18182.000000</td>\n",
              "      <td>18182.000000</td>\n",
              "      <td>18182.000000</td>\n",
              "      <td>18182.000000</td>\n",
              "      <td>1.818200e+04</td>\n",
              "      <td>18182.000000</td>\n",
              "      <td>18182.000000</td>\n",
              "      <td>18182.000000</td>\n",
              "      <td>18182.000000</td>\n",
              "      <td>18182.000000</td>\n",
              "    </tr>\n",
              "    <tr>\n",
              "      <th>mean</th>\n",
              "      <td>121.465295</td>\n",
              "      <td>38.689363</td>\n",
              "      <td>21773.667253</td>\n",
              "      <td>2.159608</td>\n",
              "      <td>1.623710e+09</td>\n",
              "      <td>0.014630</td>\n",
              "      <td>1.089264</td>\n",
              "      <td>0.549335</td>\n",
              "      <td>4.288802</td>\n",
              "      <td>153.162138</td>\n",
              "    </tr>\n",
              "    <tr>\n",
              "      <th>std</th>\n",
              "      <td>116.747893</td>\n",
              "      <td>29.786647</td>\n",
              "      <td>23965.109637</td>\n",
              "      <td>10.014666</td>\n",
              "      <td>5.468697e+06</td>\n",
              "      <td>0.137974</td>\n",
              "      <td>4.201004</td>\n",
              "      <td>3.470124</td>\n",
              "      <td>1.544786</td>\n",
              "      <td>141.075316</td>\n",
              "    </tr>\n",
              "    <tr>\n",
              "      <th>min</th>\n",
              "      <td>0.000000</td>\n",
              "      <td>1.000000</td>\n",
              "      <td>386.000000</td>\n",
              "      <td>0.000000</td>\n",
              "      <td>1.613035e+09</td>\n",
              "      <td>0.000000</td>\n",
              "      <td>0.000000</td>\n",
              "      <td>0.000000</td>\n",
              "      <td>0.000000</td>\n",
              "      <td>0.000000</td>\n",
              "    </tr>\n",
              "    <tr>\n",
              "      <th>25%</th>\n",
              "      <td>45.000000</td>\n",
              "      <td>12.000000</td>\n",
              "      <td>6086.000000</td>\n",
              "      <td>1.000000</td>\n",
              "      <td>1.622717e+09</td>\n",
              "      <td>0.000000</td>\n",
              "      <td>0.000000</td>\n",
              "      <td>0.000000</td>\n",
              "      <td>5.000000</td>\n",
              "      <td>100.000000</td>\n",
              "    </tr>\n",
              "    <tr>\n",
              "      <th>50%</th>\n",
              "      <td>91.000000</td>\n",
              "      <td>33.000000</td>\n",
              "      <td>14600.000000</td>\n",
              "      <td>1.000000</td>\n",
              "      <td>1.622718e+09</td>\n",
              "      <td>0.000000</td>\n",
              "      <td>0.000000</td>\n",
              "      <td>0.000000</td>\n",
              "      <td>5.000000</td>\n",
              "      <td>100.000000</td>\n",
              "    </tr>\n",
              "    <tr>\n",
              "      <th>75%</th>\n",
              "      <td>150.000000</td>\n",
              "      <td>64.000000</td>\n",
              "      <td>33121.000000</td>\n",
              "      <td>1.000000</td>\n",
              "      <td>1.622718e+09</td>\n",
              "      <td>0.000000</td>\n",
              "      <td>0.000000</td>\n",
              "      <td>0.000000</td>\n",
              "      <td>5.000000</td>\n",
              "      <td>100.000000</td>\n",
              "    </tr>\n",
              "    <tr>\n",
              "      <th>max</th>\n",
              "      <td>724.000000</td>\n",
              "      <td>100.000000</td>\n",
              "      <td>191775.000000</td>\n",
              "      <td>520.000000</td>\n",
              "      <td>1.665756e+09</td>\n",
              "      <td>3.000000</td>\n",
              "      <td>106.000000</td>\n",
              "      <td>126.000000</td>\n",
              "      <td>5.000000</td>\n",
              "      <td>946.000000</td>\n",
              "    </tr>\n",
              "  </tbody>\n",
              "</table>\n",
              "</div>\n",
              "    <div class=\"colab-df-buttons\">\n",
              "\n",
              "  <div class=\"colab-df-container\">\n",
              "    <button class=\"colab-df-convert\" onclick=\"convertToInteractive('df-dcb3db83-dcb1-4930-93c8-e125a5036163')\"\n",
              "            title=\"Convert this dataframe to an interactive table.\"\n",
              "            style=\"display:none;\">\n",
              "\n",
              "  <svg xmlns=\"http://www.w3.org/2000/svg\" height=\"24px\" viewBox=\"0 -960 960 960\">\n",
              "    <path d=\"M120-120v-720h720v720H120Zm60-500h600v-160H180v160Zm220 220h160v-160H400v160Zm0 220h160v-160H400v160ZM180-400h160v-160H180v160Zm440 0h160v-160H620v160ZM180-180h160v-160H180v160Zm440 0h160v-160H620v160Z\"/>\n",
              "  </svg>\n",
              "    </button>\n",
              "\n",
              "  <style>\n",
              "    .colab-df-container {\n",
              "      display:flex;\n",
              "      gap: 12px;\n",
              "    }\n",
              "\n",
              "    .colab-df-convert {\n",
              "      background-color: #E8F0FE;\n",
              "      border: none;\n",
              "      border-radius: 50%;\n",
              "      cursor: pointer;\n",
              "      display: none;\n",
              "      fill: #1967D2;\n",
              "      height: 32px;\n",
              "      padding: 0 0 0 0;\n",
              "      width: 32px;\n",
              "    }\n",
              "\n",
              "    .colab-df-convert:hover {\n",
              "      background-color: #E2EBFA;\n",
              "      box-shadow: 0px 1px 2px rgba(60, 64, 67, 0.3), 0px 1px 3px 1px rgba(60, 64, 67, 0.15);\n",
              "      fill: #174EA6;\n",
              "    }\n",
              "\n",
              "    .colab-df-buttons div {\n",
              "      margin-bottom: 4px;\n",
              "    }\n",
              "\n",
              "    [theme=dark] .colab-df-convert {\n",
              "      background-color: #3B4455;\n",
              "      fill: #D2E3FC;\n",
              "    }\n",
              "\n",
              "    [theme=dark] .colab-df-convert:hover {\n",
              "      background-color: #434B5C;\n",
              "      box-shadow: 0px 1px 3px 1px rgba(0, 0, 0, 0.15);\n",
              "      filter: drop-shadow(0px 1px 2px rgba(0, 0, 0, 0.3));\n",
              "      fill: #FFFFFF;\n",
              "    }\n",
              "  </style>\n",
              "\n",
              "    <script>\n",
              "      const buttonEl =\n",
              "        document.querySelector('#df-dcb3db83-dcb1-4930-93c8-e125a5036163 button.colab-df-convert');\n",
              "      buttonEl.style.display =\n",
              "        google.colab.kernel.accessAllowed ? 'block' : 'none';\n",
              "\n",
              "      async function convertToInteractive(key) {\n",
              "        const element = document.querySelector('#df-dcb3db83-dcb1-4930-93c8-e125a5036163');\n",
              "        const dataTable =\n",
              "          await google.colab.kernel.invokeFunction('convertToInteractive',\n",
              "                                                    [key], {});\n",
              "        if (!dataTable) return;\n",
              "\n",
              "        const docLinkHtml = 'Like what you see? Visit the ' +\n",
              "          '<a target=\"_blank\" href=https://colab.research.google.com/notebooks/data_table.ipynb>data table notebook</a>'\n",
              "          + ' to learn more about interactive tables.';\n",
              "        element.innerHTML = '';\n",
              "        dataTable['output_type'] = 'display_data';\n",
              "        await google.colab.output.renderOutput(dataTable, element);\n",
              "        const docLink = document.createElement('div');\n",
              "        docLink.innerHTML = docLinkHtml;\n",
              "        element.appendChild(docLink);\n",
              "      }\n",
              "    </script>\n",
              "  </div>\n",
              "\n",
              "\n",
              "<div id=\"df-ddd30e19-e980-4d85-a1db-df65a47a07cf\">\n",
              "  <button class=\"colab-df-quickchart\" onclick=\"quickchart('df-ddd30e19-e980-4d85-a1db-df65a47a07cf')\"\n",
              "            title=\"Suggest charts\"\n",
              "            style=\"display:none;\">\n",
              "\n",
              "<svg xmlns=\"http://www.w3.org/2000/svg\" height=\"24px\"viewBox=\"0 0 24 24\"\n",
              "     width=\"24px\">\n",
              "    <g>\n",
              "        <path d=\"M19 3H5c-1.1 0-2 .9-2 2v14c0 1.1.9 2 2 2h14c1.1 0 2-.9 2-2V5c0-1.1-.9-2-2-2zM9 17H7v-7h2v7zm4 0h-2V7h2v10zm4 0h-2v-4h2v4z\"/>\n",
              "    </g>\n",
              "</svg>\n",
              "  </button>\n",
              "\n",
              "<style>\n",
              "  .colab-df-quickchart {\n",
              "      --bg-color: #E8F0FE;\n",
              "      --fill-color: #1967D2;\n",
              "      --hover-bg-color: #E2EBFA;\n",
              "      --hover-fill-color: #174EA6;\n",
              "      --disabled-fill-color: #AAA;\n",
              "      --disabled-bg-color: #DDD;\n",
              "  }\n",
              "\n",
              "  [theme=dark] .colab-df-quickchart {\n",
              "      --bg-color: #3B4455;\n",
              "      --fill-color: #D2E3FC;\n",
              "      --hover-bg-color: #434B5C;\n",
              "      --hover-fill-color: #FFFFFF;\n",
              "      --disabled-bg-color: #3B4455;\n",
              "      --disabled-fill-color: #666;\n",
              "  }\n",
              "\n",
              "  .colab-df-quickchart {\n",
              "    background-color: var(--bg-color);\n",
              "    border: none;\n",
              "    border-radius: 50%;\n",
              "    cursor: pointer;\n",
              "    display: none;\n",
              "    fill: var(--fill-color);\n",
              "    height: 32px;\n",
              "    padding: 0;\n",
              "    width: 32px;\n",
              "  }\n",
              "\n",
              "  .colab-df-quickchart:hover {\n",
              "    background-color: var(--hover-bg-color);\n",
              "    box-shadow: 0 1px 2px rgba(60, 64, 67, 0.3), 0 1px 3px 1px rgba(60, 64, 67, 0.15);\n",
              "    fill: var(--button-hover-fill-color);\n",
              "  }\n",
              "\n",
              "  .colab-df-quickchart-complete:disabled,\n",
              "  .colab-df-quickchart-complete:disabled:hover {\n",
              "    background-color: var(--disabled-bg-color);\n",
              "    fill: var(--disabled-fill-color);\n",
              "    box-shadow: none;\n",
              "  }\n",
              "\n",
              "  .colab-df-spinner {\n",
              "    border: 2px solid var(--fill-color);\n",
              "    border-color: transparent;\n",
              "    border-bottom-color: var(--fill-color);\n",
              "    animation:\n",
              "      spin 1s steps(1) infinite;\n",
              "  }\n",
              "\n",
              "  @keyframes spin {\n",
              "    0% {\n",
              "      border-color: transparent;\n",
              "      border-bottom-color: var(--fill-color);\n",
              "      border-left-color: var(--fill-color);\n",
              "    }\n",
              "    20% {\n",
              "      border-color: transparent;\n",
              "      border-left-color: var(--fill-color);\n",
              "      border-top-color: var(--fill-color);\n",
              "    }\n",
              "    30% {\n",
              "      border-color: transparent;\n",
              "      border-left-color: var(--fill-color);\n",
              "      border-top-color: var(--fill-color);\n",
              "      border-right-color: var(--fill-color);\n",
              "    }\n",
              "    40% {\n",
              "      border-color: transparent;\n",
              "      border-right-color: var(--fill-color);\n",
              "      border-top-color: var(--fill-color);\n",
              "    }\n",
              "    60% {\n",
              "      border-color: transparent;\n",
              "      border-right-color: var(--fill-color);\n",
              "    }\n",
              "    80% {\n",
              "      border-color: transparent;\n",
              "      border-right-color: var(--fill-color);\n",
              "      border-bottom-color: var(--fill-color);\n",
              "    }\n",
              "    90% {\n",
              "      border-color: transparent;\n",
              "      border-bottom-color: var(--fill-color);\n",
              "    }\n",
              "  }\n",
              "</style>\n",
              "\n",
              "  <script>\n",
              "    async function quickchart(key) {\n",
              "      const quickchartButtonEl =\n",
              "        document.querySelector('#' + key + ' button');\n",
              "      quickchartButtonEl.disabled = true;  // To prevent multiple clicks.\n",
              "      quickchartButtonEl.classList.add('colab-df-spinner');\n",
              "      try {\n",
              "        const charts = await google.colab.kernel.invokeFunction(\n",
              "            'suggestCharts', [key], {});\n",
              "      } catch (error) {\n",
              "        console.error('Error during call to suggestCharts:', error);\n",
              "      }\n",
              "      quickchartButtonEl.classList.remove('colab-df-spinner');\n",
              "      quickchartButtonEl.classList.add('colab-df-quickchart-complete');\n",
              "    }\n",
              "    (() => {\n",
              "      let quickchartButtonEl =\n",
              "        document.querySelector('#df-ddd30e19-e980-4d85-a1db-df65a47a07cf button');\n",
              "      quickchartButtonEl.style.display =\n",
              "        google.colab.kernel.accessAllowed ? 'block' : 'none';\n",
              "    })();\n",
              "  </script>\n",
              "</div>\n",
              "\n",
              "    </div>\n",
              "  </div>\n"
            ],
            "application/vnd.google.colaboratory.intrinsic+json": {
              "type": "dataframe",
              "summary": "{\n  \"name\": \"data\",\n  \"rows\": 8,\n  \"fields\": [\n    {\n      \"column\": \"Unnamed: 0\",\n      \"properties\": {\n        \"dtype\": \"number\",\n        \"std\": 6369.333244102277,\n        \"min\": 0.0,\n        \"max\": 18182.0,\n        \"num_unique_values\": 8,\n        \"samples\": [\n          121.46529534704653,\n          91.0,\n          18182.0\n        ],\n        \"semantic_type\": \"\",\n        \"description\": \"\"\n      }\n    },\n    {\n      \"column\": \"recipe_number\",\n      \"properties\": {\n        \"dtype\": \"number\",\n        \"std\": 6414.316479512387,\n        \"min\": 1.0,\n        \"max\": 18182.0,\n        \"num_unique_values\": 8,\n        \"samples\": [\n          38.68936310636894,\n          33.0,\n          18182.0\n        ],\n        \"semantic_type\": \"\",\n        \"description\": \"\"\n      }\n    },\n    {\n      \"column\": \"recipe_code\",\n      \"properties\": {\n        \"dtype\": \"number\",\n        \"std\": 62678.45618966153,\n        \"min\": 386.0,\n        \"max\": 191775.0,\n        \"num_unique_values\": 8,\n        \"samples\": [\n          21773.667253327465,\n          14600.0,\n          18182.0\n        ],\n        \"semantic_type\": \"\",\n        \"description\": \"\"\n      }\n    },\n    {\n      \"column\": \"user_reputation\",\n      \"properties\": {\n        \"dtype\": \"number\",\n        \"std\": 6403.838752257899,\n        \"min\": 0.0,\n        \"max\": 18182.0,\n        \"num_unique_values\": 6,\n        \"samples\": [\n          18182.0,\n          2.1596084039159607,\n          520.0\n        ],\n        \"semantic_type\": \"\",\n        \"description\": \"\"\n      }\n    },\n    {\n      \"column\": \"created_at\",\n      \"properties\": {\n        \"dtype\": \"number\",\n        \"std\": 752719961.0911596,\n        \"min\": 18182.0,\n        \"max\": 1665756035.0,\n        \"num_unique_values\": 8,\n        \"samples\": [\n          1623710485.7836323,\n          1622717707.0,\n          18182.0\n        ],\n        \"semantic_type\": \"\",\n        \"description\": \"\"\n      }\n    },\n    {\n      \"column\": \"reply_count\",\n      \"properties\": {\n        \"dtype\": \"number\",\n        \"std\": 6428.148601670578,\n        \"min\": 0.0,\n        \"max\": 18182.0,\n        \"num_unique_values\": 5,\n        \"samples\": [\n          0.014629853701462985,\n          3.0,\n          0.13797398993049625\n        ],\n        \"semantic_type\": \"\",\n        \"description\": \"\"\n      }\n    },\n    {\n      \"column\": \"thumbs_up\",\n      \"properties\": {\n        \"dtype\": \"number\",\n        \"std\": 6422.792230272339,\n        \"min\": 0.0,\n        \"max\": 18182.0,\n        \"num_unique_values\": 5,\n        \"samples\": [\n          1.0892641073589264,\n          106.0,\n          4.201003572820698\n        ],\n        \"semantic_type\": \"\",\n        \"description\": \"\"\n      }\n    },\n    {\n      \"column\": \"thumbs_down\",\n      \"properties\": {\n        \"dtype\": \"number\",\n        \"std\": 6421.89063463527,\n        \"min\": 0.0,\n        \"max\": 18182.0,\n        \"num_unique_values\": 5,\n        \"samples\": [\n          0.5493345066549334,\n          126.0,\n          3.4701239835683553\n        ],\n        \"semantic_type\": \"\",\n        \"description\": \"\"\n      }\n    },\n    {\n      \"column\": \"stars\",\n      \"properties\": {\n        \"dtype\": \"number\",\n        \"std\": 6427.003237257299,\n        \"min\": 0.0,\n        \"max\": 18182.0,\n        \"num_unique_values\": 5,\n        \"samples\": [\n          4.28880211197888,\n          5.0,\n          1.5447863581963137\n        ],\n        \"semantic_type\": \"\",\n        \"description\": \"\"\n      }\n    },\n    {\n      \"column\": \"best_score\",\n      \"properties\": {\n        \"dtype\": \"number\",\n        \"std\": 6357.58904895913,\n        \"min\": 0.0,\n        \"max\": 18182.0,\n        \"num_unique_values\": 6,\n        \"samples\": [\n          18182.0,\n          153.16213837861622,\n          946.0\n        ],\n        \"semantic_type\": \"\",\n        \"description\": \"\"\n      }\n    }\n  ]\n}"
            }
          },
          "metadata": {},
          "execution_count": 4
        }
      ],
      "source": [
        "data.describe()"
      ]
    },
    {
      "cell_type": "markdown",
      "source": [
        "**printing the first 5 data from begining**"
      ],
      "metadata": {
        "id": "pBG9bjoNGA1_"
      }
    },
    {
      "cell_type": "code",
      "execution_count": 5,
      "metadata": {
        "colab": {
          "base_uri": "https://localhost:8080/",
          "height": 626
        },
        "id": "Hy0TfCFCd-ta",
        "outputId": "6fa66176-d935-4b42-8d7e-5fb04e640fd6"
      },
      "outputs": [
        {
          "output_type": "execute_result",
          "data": {
            "text/plain": [
              "   Unnamed: 0  recipe_number  recipe_code         recipe_name  \\\n",
              "0           0              1        14299  Creamy White Chili   \n",
              "1           1              1        14299  Creamy White Chili   \n",
              "2           2              1        14299  Creamy White Chili   \n",
              "3           3              1        14299  Creamy White Chili   \n",
              "4           4              1        14299  Creamy White Chili   \n",
              "\n",
              "                                        comment_id         user_id  \\\n",
              "0  sp_aUSaElGf_14299_c_2G3aneMRgRMZwXqIHmSdXSG1hEM  u_9iFLIhMa8QaG   \n",
              "1  sp_aUSaElGf_14299_c_2FsPC83HtzCsQAtOxlbL6RcaPbY  u_Lu6p25tmE77j   \n",
              "2  sp_aUSaElGf_14299_c_2FPrSGyTv7PQkZq37j92r9mYGkP  u_s0LwgpZ8Jsqq   \n",
              "3  sp_aUSaElGf_14299_c_2DzdSIgV9qNiuBaLoZ7JQaartoC  u_fqrybAdYjgjG   \n",
              "4  sp_aUSaElGf_14299_c_2DtZJuRQYeTFwXBoZRfRhBPEXjI  u_XXWKwVhKZD69   \n",
              "\n",
              "    user_name  user_reputation  created_at  reply_count  thumbs_up  \\\n",
              "0     Jeri326                1  1665619889            0          0   \n",
              "1     Mark467               50  1665277687            0          7   \n",
              "2  Barbara566               10  1664404557            0          3   \n",
              "3  jeansch123                1  1661787808            2          2   \n",
              "4    camper77               10  1664913823            1          7   \n",
              "\n",
              "   thumbs_down  stars  best_score  \\\n",
              "0            0      5         527   \n",
              "1            0      5         724   \n",
              "2            0      5         710   \n",
              "3            0      0         581   \n",
              "4            0      0         820   \n",
              "\n",
              "                                                text  \n",
              "0  I tweaked it a little, removed onions because ...  \n",
              "1  Bush used to have a white chili bean and it ma...  \n",
              "2  I have a very complicated white chicken chili ...  \n",
              "3  In your introduction, you mentioned cream chee...  \n",
              "4  Wonderful! I made this for a &#34;Chili/Stew&#...  "
            ],
            "text/html": [
              "\n",
              "  <div id=\"df-70fbfbdf-6752-47b2-8d52-8fce1c82d90d\" class=\"colab-df-container\">\n",
              "    <div>\n",
              "<style scoped>\n",
              "    .dataframe tbody tr th:only-of-type {\n",
              "        vertical-align: middle;\n",
              "    }\n",
              "\n",
              "    .dataframe tbody tr th {\n",
              "        vertical-align: top;\n",
              "    }\n",
              "\n",
              "    .dataframe thead th {\n",
              "        text-align: right;\n",
              "    }\n",
              "</style>\n",
              "<table border=\"1\" class=\"dataframe\">\n",
              "  <thead>\n",
              "    <tr style=\"text-align: right;\">\n",
              "      <th></th>\n",
              "      <th>Unnamed: 0</th>\n",
              "      <th>recipe_number</th>\n",
              "      <th>recipe_code</th>\n",
              "      <th>recipe_name</th>\n",
              "      <th>comment_id</th>\n",
              "      <th>user_id</th>\n",
              "      <th>user_name</th>\n",
              "      <th>user_reputation</th>\n",
              "      <th>created_at</th>\n",
              "      <th>reply_count</th>\n",
              "      <th>thumbs_up</th>\n",
              "      <th>thumbs_down</th>\n",
              "      <th>stars</th>\n",
              "      <th>best_score</th>\n",
              "      <th>text</th>\n",
              "    </tr>\n",
              "  </thead>\n",
              "  <tbody>\n",
              "    <tr>\n",
              "      <th>0</th>\n",
              "      <td>0</td>\n",
              "      <td>1</td>\n",
              "      <td>14299</td>\n",
              "      <td>Creamy White Chili</td>\n",
              "      <td>sp_aUSaElGf_14299_c_2G3aneMRgRMZwXqIHmSdXSG1hEM</td>\n",
              "      <td>u_9iFLIhMa8QaG</td>\n",
              "      <td>Jeri326</td>\n",
              "      <td>1</td>\n",
              "      <td>1665619889</td>\n",
              "      <td>0</td>\n",
              "      <td>0</td>\n",
              "      <td>0</td>\n",
              "      <td>5</td>\n",
              "      <td>527</td>\n",
              "      <td>I tweaked it a little, removed onions because ...</td>\n",
              "    </tr>\n",
              "    <tr>\n",
              "      <th>1</th>\n",
              "      <td>1</td>\n",
              "      <td>1</td>\n",
              "      <td>14299</td>\n",
              "      <td>Creamy White Chili</td>\n",
              "      <td>sp_aUSaElGf_14299_c_2FsPC83HtzCsQAtOxlbL6RcaPbY</td>\n",
              "      <td>u_Lu6p25tmE77j</td>\n",
              "      <td>Mark467</td>\n",
              "      <td>50</td>\n",
              "      <td>1665277687</td>\n",
              "      <td>0</td>\n",
              "      <td>7</td>\n",
              "      <td>0</td>\n",
              "      <td>5</td>\n",
              "      <td>724</td>\n",
              "      <td>Bush used to have a white chili bean and it ma...</td>\n",
              "    </tr>\n",
              "    <tr>\n",
              "      <th>2</th>\n",
              "      <td>2</td>\n",
              "      <td>1</td>\n",
              "      <td>14299</td>\n",
              "      <td>Creamy White Chili</td>\n",
              "      <td>sp_aUSaElGf_14299_c_2FPrSGyTv7PQkZq37j92r9mYGkP</td>\n",
              "      <td>u_s0LwgpZ8Jsqq</td>\n",
              "      <td>Barbara566</td>\n",
              "      <td>10</td>\n",
              "      <td>1664404557</td>\n",
              "      <td>0</td>\n",
              "      <td>3</td>\n",
              "      <td>0</td>\n",
              "      <td>5</td>\n",
              "      <td>710</td>\n",
              "      <td>I have a very complicated white chicken chili ...</td>\n",
              "    </tr>\n",
              "    <tr>\n",
              "      <th>3</th>\n",
              "      <td>3</td>\n",
              "      <td>1</td>\n",
              "      <td>14299</td>\n",
              "      <td>Creamy White Chili</td>\n",
              "      <td>sp_aUSaElGf_14299_c_2DzdSIgV9qNiuBaLoZ7JQaartoC</td>\n",
              "      <td>u_fqrybAdYjgjG</td>\n",
              "      <td>jeansch123</td>\n",
              "      <td>1</td>\n",
              "      <td>1661787808</td>\n",
              "      <td>2</td>\n",
              "      <td>2</td>\n",
              "      <td>0</td>\n",
              "      <td>0</td>\n",
              "      <td>581</td>\n",
              "      <td>In your introduction, you mentioned cream chee...</td>\n",
              "    </tr>\n",
              "    <tr>\n",
              "      <th>4</th>\n",
              "      <td>4</td>\n",
              "      <td>1</td>\n",
              "      <td>14299</td>\n",
              "      <td>Creamy White Chili</td>\n",
              "      <td>sp_aUSaElGf_14299_c_2DtZJuRQYeTFwXBoZRfRhBPEXjI</td>\n",
              "      <td>u_XXWKwVhKZD69</td>\n",
              "      <td>camper77</td>\n",
              "      <td>10</td>\n",
              "      <td>1664913823</td>\n",
              "      <td>1</td>\n",
              "      <td>7</td>\n",
              "      <td>0</td>\n",
              "      <td>0</td>\n",
              "      <td>820</td>\n",
              "      <td>Wonderful! I made this for a &amp;#34;Chili/Stew&amp;#...</td>\n",
              "    </tr>\n",
              "  </tbody>\n",
              "</table>\n",
              "</div>\n",
              "    <div class=\"colab-df-buttons\">\n",
              "\n",
              "  <div class=\"colab-df-container\">\n",
              "    <button class=\"colab-df-convert\" onclick=\"convertToInteractive('df-70fbfbdf-6752-47b2-8d52-8fce1c82d90d')\"\n",
              "            title=\"Convert this dataframe to an interactive table.\"\n",
              "            style=\"display:none;\">\n",
              "\n",
              "  <svg xmlns=\"http://www.w3.org/2000/svg\" height=\"24px\" viewBox=\"0 -960 960 960\">\n",
              "    <path d=\"M120-120v-720h720v720H120Zm60-500h600v-160H180v160Zm220 220h160v-160H400v160Zm0 220h160v-160H400v160ZM180-400h160v-160H180v160Zm440 0h160v-160H620v160ZM180-180h160v-160H180v160Zm440 0h160v-160H620v160Z\"/>\n",
              "  </svg>\n",
              "    </button>\n",
              "\n",
              "  <style>\n",
              "    .colab-df-container {\n",
              "      display:flex;\n",
              "      gap: 12px;\n",
              "    }\n",
              "\n",
              "    .colab-df-convert {\n",
              "      background-color: #E8F0FE;\n",
              "      border: none;\n",
              "      border-radius: 50%;\n",
              "      cursor: pointer;\n",
              "      display: none;\n",
              "      fill: #1967D2;\n",
              "      height: 32px;\n",
              "      padding: 0 0 0 0;\n",
              "      width: 32px;\n",
              "    }\n",
              "\n",
              "    .colab-df-convert:hover {\n",
              "      background-color: #E2EBFA;\n",
              "      box-shadow: 0px 1px 2px rgba(60, 64, 67, 0.3), 0px 1px 3px 1px rgba(60, 64, 67, 0.15);\n",
              "      fill: #174EA6;\n",
              "    }\n",
              "\n",
              "    .colab-df-buttons div {\n",
              "      margin-bottom: 4px;\n",
              "    }\n",
              "\n",
              "    [theme=dark] .colab-df-convert {\n",
              "      background-color: #3B4455;\n",
              "      fill: #D2E3FC;\n",
              "    }\n",
              "\n",
              "    [theme=dark] .colab-df-convert:hover {\n",
              "      background-color: #434B5C;\n",
              "      box-shadow: 0px 1px 3px 1px rgba(0, 0, 0, 0.15);\n",
              "      filter: drop-shadow(0px 1px 2px rgba(0, 0, 0, 0.3));\n",
              "      fill: #FFFFFF;\n",
              "    }\n",
              "  </style>\n",
              "\n",
              "    <script>\n",
              "      const buttonEl =\n",
              "        document.querySelector('#df-70fbfbdf-6752-47b2-8d52-8fce1c82d90d button.colab-df-convert');\n",
              "      buttonEl.style.display =\n",
              "        google.colab.kernel.accessAllowed ? 'block' : 'none';\n",
              "\n",
              "      async function convertToInteractive(key) {\n",
              "        const element = document.querySelector('#df-70fbfbdf-6752-47b2-8d52-8fce1c82d90d');\n",
              "        const dataTable =\n",
              "          await google.colab.kernel.invokeFunction('convertToInteractive',\n",
              "                                                    [key], {});\n",
              "        if (!dataTable) return;\n",
              "\n",
              "        const docLinkHtml = 'Like what you see? Visit the ' +\n",
              "          '<a target=\"_blank\" href=https://colab.research.google.com/notebooks/data_table.ipynb>data table notebook</a>'\n",
              "          + ' to learn more about interactive tables.';\n",
              "        element.innerHTML = '';\n",
              "        dataTable['output_type'] = 'display_data';\n",
              "        await google.colab.output.renderOutput(dataTable, element);\n",
              "        const docLink = document.createElement('div');\n",
              "        docLink.innerHTML = docLinkHtml;\n",
              "        element.appendChild(docLink);\n",
              "      }\n",
              "    </script>\n",
              "  </div>\n",
              "\n",
              "\n",
              "<div id=\"df-f2ca32fe-dc5e-42b1-a40a-1582403230be\">\n",
              "  <button class=\"colab-df-quickchart\" onclick=\"quickchart('df-f2ca32fe-dc5e-42b1-a40a-1582403230be')\"\n",
              "            title=\"Suggest charts\"\n",
              "            style=\"display:none;\">\n",
              "\n",
              "<svg xmlns=\"http://www.w3.org/2000/svg\" height=\"24px\"viewBox=\"0 0 24 24\"\n",
              "     width=\"24px\">\n",
              "    <g>\n",
              "        <path d=\"M19 3H5c-1.1 0-2 .9-2 2v14c0 1.1.9 2 2 2h14c1.1 0 2-.9 2-2V5c0-1.1-.9-2-2-2zM9 17H7v-7h2v7zm4 0h-2V7h2v10zm4 0h-2v-4h2v4z\"/>\n",
              "    </g>\n",
              "</svg>\n",
              "  </button>\n",
              "\n",
              "<style>\n",
              "  .colab-df-quickchart {\n",
              "      --bg-color: #E8F0FE;\n",
              "      --fill-color: #1967D2;\n",
              "      --hover-bg-color: #E2EBFA;\n",
              "      --hover-fill-color: #174EA6;\n",
              "      --disabled-fill-color: #AAA;\n",
              "      --disabled-bg-color: #DDD;\n",
              "  }\n",
              "\n",
              "  [theme=dark] .colab-df-quickchart {\n",
              "      --bg-color: #3B4455;\n",
              "      --fill-color: #D2E3FC;\n",
              "      --hover-bg-color: #434B5C;\n",
              "      --hover-fill-color: #FFFFFF;\n",
              "      --disabled-bg-color: #3B4455;\n",
              "      --disabled-fill-color: #666;\n",
              "  }\n",
              "\n",
              "  .colab-df-quickchart {\n",
              "    background-color: var(--bg-color);\n",
              "    border: none;\n",
              "    border-radius: 50%;\n",
              "    cursor: pointer;\n",
              "    display: none;\n",
              "    fill: var(--fill-color);\n",
              "    height: 32px;\n",
              "    padding: 0;\n",
              "    width: 32px;\n",
              "  }\n",
              "\n",
              "  .colab-df-quickchart:hover {\n",
              "    background-color: var(--hover-bg-color);\n",
              "    box-shadow: 0 1px 2px rgba(60, 64, 67, 0.3), 0 1px 3px 1px rgba(60, 64, 67, 0.15);\n",
              "    fill: var(--button-hover-fill-color);\n",
              "  }\n",
              "\n",
              "  .colab-df-quickchart-complete:disabled,\n",
              "  .colab-df-quickchart-complete:disabled:hover {\n",
              "    background-color: var(--disabled-bg-color);\n",
              "    fill: var(--disabled-fill-color);\n",
              "    box-shadow: none;\n",
              "  }\n",
              "\n",
              "  .colab-df-spinner {\n",
              "    border: 2px solid var(--fill-color);\n",
              "    border-color: transparent;\n",
              "    border-bottom-color: var(--fill-color);\n",
              "    animation:\n",
              "      spin 1s steps(1) infinite;\n",
              "  }\n",
              "\n",
              "  @keyframes spin {\n",
              "    0% {\n",
              "      border-color: transparent;\n",
              "      border-bottom-color: var(--fill-color);\n",
              "      border-left-color: var(--fill-color);\n",
              "    }\n",
              "    20% {\n",
              "      border-color: transparent;\n",
              "      border-left-color: var(--fill-color);\n",
              "      border-top-color: var(--fill-color);\n",
              "    }\n",
              "    30% {\n",
              "      border-color: transparent;\n",
              "      border-left-color: var(--fill-color);\n",
              "      border-top-color: var(--fill-color);\n",
              "      border-right-color: var(--fill-color);\n",
              "    }\n",
              "    40% {\n",
              "      border-color: transparent;\n",
              "      border-right-color: var(--fill-color);\n",
              "      border-top-color: var(--fill-color);\n",
              "    }\n",
              "    60% {\n",
              "      border-color: transparent;\n",
              "      border-right-color: var(--fill-color);\n",
              "    }\n",
              "    80% {\n",
              "      border-color: transparent;\n",
              "      border-right-color: var(--fill-color);\n",
              "      border-bottom-color: var(--fill-color);\n",
              "    }\n",
              "    90% {\n",
              "      border-color: transparent;\n",
              "      border-bottom-color: var(--fill-color);\n",
              "    }\n",
              "  }\n",
              "</style>\n",
              "\n",
              "  <script>\n",
              "    async function quickchart(key) {\n",
              "      const quickchartButtonEl =\n",
              "        document.querySelector('#' + key + ' button');\n",
              "      quickchartButtonEl.disabled = true;  // To prevent multiple clicks.\n",
              "      quickchartButtonEl.classList.add('colab-df-spinner');\n",
              "      try {\n",
              "        const charts = await google.colab.kernel.invokeFunction(\n",
              "            'suggestCharts', [key], {});\n",
              "      } catch (error) {\n",
              "        console.error('Error during call to suggestCharts:', error);\n",
              "      }\n",
              "      quickchartButtonEl.classList.remove('colab-df-spinner');\n",
              "      quickchartButtonEl.classList.add('colab-df-quickchart-complete');\n",
              "    }\n",
              "    (() => {\n",
              "      let quickchartButtonEl =\n",
              "        document.querySelector('#df-f2ca32fe-dc5e-42b1-a40a-1582403230be button');\n",
              "      quickchartButtonEl.style.display =\n",
              "        google.colab.kernel.accessAllowed ? 'block' : 'none';\n",
              "    })();\n",
              "  </script>\n",
              "</div>\n",
              "\n",
              "    </div>\n",
              "  </div>\n"
            ],
            "application/vnd.google.colaboratory.intrinsic+json": {
              "type": "dataframe",
              "variable_name": "data",
              "summary": "{\n  \"name\": \"data\",\n  \"rows\": 18182,\n  \"fields\": [\n    {\n      \"column\": \"Unnamed: 0\",\n      \"properties\": {\n        \"dtype\": \"number\",\n        \"std\": 116,\n        \"min\": 0,\n        \"max\": 724,\n        \"num_unique_values\": 725,\n        \"samples\": [\n          326,\n          518,\n          554\n        ],\n        \"semantic_type\": \"\",\n        \"description\": \"\"\n      }\n    },\n    {\n      \"column\": \"recipe_number\",\n      \"properties\": {\n        \"dtype\": \"number\",\n        \"std\": 29,\n        \"min\": 1,\n        \"max\": 100,\n        \"num_unique_values\": 100,\n        \"samples\": [\n          84,\n          54,\n          71\n        ],\n        \"semantic_type\": \"\",\n        \"description\": \"\"\n      }\n    },\n    {\n      \"column\": \"recipe_code\",\n      \"properties\": {\n        \"dtype\": \"number\",\n        \"std\": 23965,\n        \"min\": 386,\n        \"max\": 191775,\n        \"num_unique_values\": 100,\n        \"samples\": [\n          4444,\n          35766,\n          12259\n        ],\n        \"semantic_type\": \"\",\n        \"description\": \"\"\n      }\n    },\n    {\n      \"column\": \"recipe_name\",\n      \"properties\": {\n        \"dtype\": \"category\",\n        \"num_unique_values\": 100,\n        \"samples\": [\n          \"Strawberry Pretzel Salad\",\n          \"Cheeseburger Paradise Soup\",\n          \"Banana Bars with Cream Cheese Frosting\"\n        ],\n        \"semantic_type\": \"\",\n        \"description\": \"\"\n      }\n    },\n    {\n      \"column\": \"comment_id\",\n      \"properties\": {\n        \"dtype\": \"string\",\n        \"num_unique_values\": 18182,\n        \"samples\": [\n          \"sp_aUSaElGf_11767_c_161080\",\n          \"sp_aUSaElGf_3309_c_179663\",\n          \"sp_aUSaElGf_141947_c_25OEwT9cShUeeIc1NDtvXOdMmsl\"\n        ],\n        \"semantic_type\": \"\",\n        \"description\": \"\"\n      }\n    },\n    {\n      \"column\": \"user_id\",\n      \"properties\": {\n        \"dtype\": \"string\",\n        \"num_unique_values\": 13812,\n        \"samples\": [\n          \"u_1oKVew1waOlVdtENPclCMLUHIKH\",\n          \"u_4E92mOjCjoxp\",\n          \"u_1oKWRmNdxqOszrKcOBjalh6A5UA\"\n        ],\n        \"semantic_type\": \"\",\n        \"description\": \"\"\n      }\n    },\n    {\n      \"column\": \"user_name\",\n      \"properties\": {\n        \"dtype\": \"string\",\n        \"num_unique_values\": 13586,\n        \"samples\": [\n          \"JanieceMurphy\",\n          \"vbanfield\",\n          \"dmj328\"\n        ],\n        \"semantic_type\": \"\",\n        \"description\": \"\"\n      }\n    },\n    {\n      \"column\": \"user_reputation\",\n      \"properties\": {\n        \"dtype\": \"number\",\n        \"std\": 10,\n        \"min\": 0,\n        \"max\": 520,\n        \"num_unique_values\": 22,\n        \"samples\": [\n          1,\n          160,\n          130\n        ],\n        \"semantic_type\": \"\",\n        \"description\": \"\"\n      }\n    },\n    {\n      \"column\": \"created_at\",\n      \"properties\": {\n        \"dtype\": \"number\",\n        \"std\": 5468696,\n        \"min\": 1613035336,\n        \"max\": 1665756035,\n        \"num_unique_values\": 2695,\n        \"samples\": [\n          1622717016,\n          1622718090,\n          1622717812\n        ],\n        \"semantic_type\": \"\",\n        \"description\": \"\"\n      }\n    },\n    {\n      \"column\": \"reply_count\",\n      \"properties\": {\n        \"dtype\": \"number\",\n        \"std\": 0,\n        \"min\": 0,\n        \"max\": 3,\n        \"num_unique_values\": 4,\n        \"samples\": [\n          2,\n          3,\n          0\n        ],\n        \"semantic_type\": \"\",\n        \"description\": \"\"\n      }\n    },\n    {\n      \"column\": \"thumbs_up\",\n      \"properties\": {\n        \"dtype\": \"number\",\n        \"std\": 4,\n        \"min\": 0,\n        \"max\": 106,\n        \"num_unique_values\": 62,\n        \"samples\": [\n          45,\n          29,\n          0\n        ],\n        \"semantic_type\": \"\",\n        \"description\": \"\"\n      }\n    },\n    {\n      \"column\": \"thumbs_down\",\n      \"properties\": {\n        \"dtype\": \"number\",\n        \"std\": 3,\n        \"min\": 0,\n        \"max\": 126,\n        \"num_unique_values\": 58,\n        \"samples\": [\n          0,\n          6,\n          26\n        ],\n        \"semantic_type\": \"\",\n        \"description\": \"\"\n      }\n    },\n    {\n      \"column\": \"stars\",\n      \"properties\": {\n        \"dtype\": \"number\",\n        \"std\": 1,\n        \"min\": 0,\n        \"max\": 5,\n        \"num_unique_values\": 6,\n        \"samples\": [\n          5,\n          0,\n          2\n        ],\n        \"semantic_type\": \"\",\n        \"description\": \"\"\n      }\n    },\n    {\n      \"column\": \"best_score\",\n      \"properties\": {\n        \"dtype\": \"number\",\n        \"std\": 141,\n        \"min\": 0,\n        \"max\": 946,\n        \"num_unique_values\": 588,\n        \"samples\": [\n          472,\n          479,\n          852\n        ],\n        \"semantic_type\": \"\",\n        \"description\": \"\"\n      }\n    },\n    {\n      \"column\": \"text\",\n      \"properties\": {\n        \"dtype\": \"string\",\n        \"num_unique_values\": 17731,\n        \"samples\": [\n          \"This recipe is a 5 star ... sorry!!!\",\n          \"Very good. It&#39;s a little on the spicy side and the chicken turned out slightly dry, very good overall though.\",\n          \"The best coleslaw I ever made..... creamy and sweet!\"\n        ],\n        \"semantic_type\": \"\",\n        \"description\": \"\"\n      }\n    }\n  ]\n}"
            }
          },
          "metadata": {},
          "execution_count": 5
        }
      ],
      "source": [
        "data.head()"
      ]
    },
    {
      "cell_type": "markdown",
      "source": [
        "printing the last 5 data from dataset"
      ],
      "metadata": {
        "id": "hJ-Hn2oiGGZv"
      }
    },
    {
      "cell_type": "code",
      "execution_count": 6,
      "metadata": {
        "colab": {
          "base_uri": "https://localhost:8080/",
          "height": 626
        },
        "id": "-te9p3TGeF9F",
        "outputId": "6eb3c31d-7f60-43c1-934e-4e14081ab8fe"
      },
      "outputs": [
        {
          "output_type": "execute_result",
          "data": {
            "text/plain": [
              "       Unnamed: 0  recipe_number  recipe_code                    recipe_name  \\\n",
              "18177         114            100        82745  Mamaw Emily’s Strawberry Cake   \n",
              "18178         115            100        82745  Mamaw Emily’s Strawberry Cake   \n",
              "18179         116            100        82745  Mamaw Emily’s Strawberry Cake   \n",
              "18180         117            100        82745  Mamaw Emily’s Strawberry Cake   \n",
              "18181         118            100        82745  Mamaw Emily’s Strawberry Cake   \n",
              "\n",
              "                       comment_id                        user_id   user_name  \\\n",
              "18177  sp_aUSaElGf_82745_c_331352  u_1oKblS4ULpTAACUTILo0QlO5mrN  WhittierCA   \n",
              "18178  sp_aUSaElGf_82745_c_204836  u_1oKY7CKLaFQpI3cBCVaxHXAEGbt   susieswan   \n",
              "18179  sp_aUSaElGf_82745_c_301178  u_1oKXBAuHbMDi9nnriVAbJoPqpeQ       blajr   \n",
              "18180  sp_aUSaElGf_82745_c_180512  u_1oKVbnueXfnlmYWuYH8xJ0mFxNQ     cafritz   \n",
              "18181  sp_aUSaElGf_82745_c_262637  u_1oKW6W12cOLxiMzjA7j8nTqwFWG    nopalito   \n",
              "\n",
              "       user_reputation  created_at  reply_count  thumbs_up  thumbs_down  \\\n",
              "18177                1  1622717977            0          0            0   \n",
              "18178                1  1613036720            0          0            0   \n",
              "18179                1  1622717844            0          0            0   \n",
              "18180                1  1622717233            0          0            0   \n",
              "18181                1  1622717625            0          1            0   \n",
              "\n",
              "       stars  best_score                                               text  \n",
              "18177      5         100  This Strawberry Cake has been a family favorit...  \n",
              "18178      5         100  <p>I received endless compliments on this cake...  \n",
              "18179      5         100  This cake was delicious and so moist! I didn&#...  \n",
              "18180      5         100  I just made this too.  It is wonderful.  As fo...  \n",
              "18181      5         193  OMG, you must make this cake. I made it for my...  "
            ],
            "text/html": [
              "\n",
              "  <div id=\"df-1a1a1c25-98d5-4d9c-8d56-7213614bebab\" class=\"colab-df-container\">\n",
              "    <div>\n",
              "<style scoped>\n",
              "    .dataframe tbody tr th:only-of-type {\n",
              "        vertical-align: middle;\n",
              "    }\n",
              "\n",
              "    .dataframe tbody tr th {\n",
              "        vertical-align: top;\n",
              "    }\n",
              "\n",
              "    .dataframe thead th {\n",
              "        text-align: right;\n",
              "    }\n",
              "</style>\n",
              "<table border=\"1\" class=\"dataframe\">\n",
              "  <thead>\n",
              "    <tr style=\"text-align: right;\">\n",
              "      <th></th>\n",
              "      <th>Unnamed: 0</th>\n",
              "      <th>recipe_number</th>\n",
              "      <th>recipe_code</th>\n",
              "      <th>recipe_name</th>\n",
              "      <th>comment_id</th>\n",
              "      <th>user_id</th>\n",
              "      <th>user_name</th>\n",
              "      <th>user_reputation</th>\n",
              "      <th>created_at</th>\n",
              "      <th>reply_count</th>\n",
              "      <th>thumbs_up</th>\n",
              "      <th>thumbs_down</th>\n",
              "      <th>stars</th>\n",
              "      <th>best_score</th>\n",
              "      <th>text</th>\n",
              "    </tr>\n",
              "  </thead>\n",
              "  <tbody>\n",
              "    <tr>\n",
              "      <th>18177</th>\n",
              "      <td>114</td>\n",
              "      <td>100</td>\n",
              "      <td>82745</td>\n",
              "      <td>Mamaw Emily’s Strawberry Cake</td>\n",
              "      <td>sp_aUSaElGf_82745_c_331352</td>\n",
              "      <td>u_1oKblS4ULpTAACUTILo0QlO5mrN</td>\n",
              "      <td>WhittierCA</td>\n",
              "      <td>1</td>\n",
              "      <td>1622717977</td>\n",
              "      <td>0</td>\n",
              "      <td>0</td>\n",
              "      <td>0</td>\n",
              "      <td>5</td>\n",
              "      <td>100</td>\n",
              "      <td>This Strawberry Cake has been a family favorit...</td>\n",
              "    </tr>\n",
              "    <tr>\n",
              "      <th>18178</th>\n",
              "      <td>115</td>\n",
              "      <td>100</td>\n",
              "      <td>82745</td>\n",
              "      <td>Mamaw Emily’s Strawberry Cake</td>\n",
              "      <td>sp_aUSaElGf_82745_c_204836</td>\n",
              "      <td>u_1oKY7CKLaFQpI3cBCVaxHXAEGbt</td>\n",
              "      <td>susieswan</td>\n",
              "      <td>1</td>\n",
              "      <td>1613036720</td>\n",
              "      <td>0</td>\n",
              "      <td>0</td>\n",
              "      <td>0</td>\n",
              "      <td>5</td>\n",
              "      <td>100</td>\n",
              "      <td>&lt;p&gt;I received endless compliments on this cake...</td>\n",
              "    </tr>\n",
              "    <tr>\n",
              "      <th>18179</th>\n",
              "      <td>116</td>\n",
              "      <td>100</td>\n",
              "      <td>82745</td>\n",
              "      <td>Mamaw Emily’s Strawberry Cake</td>\n",
              "      <td>sp_aUSaElGf_82745_c_301178</td>\n",
              "      <td>u_1oKXBAuHbMDi9nnriVAbJoPqpeQ</td>\n",
              "      <td>blajr</td>\n",
              "      <td>1</td>\n",
              "      <td>1622717844</td>\n",
              "      <td>0</td>\n",
              "      <td>0</td>\n",
              "      <td>0</td>\n",
              "      <td>5</td>\n",
              "      <td>100</td>\n",
              "      <td>This cake was delicious and so moist! I didn&amp;#...</td>\n",
              "    </tr>\n",
              "    <tr>\n",
              "      <th>18180</th>\n",
              "      <td>117</td>\n",
              "      <td>100</td>\n",
              "      <td>82745</td>\n",
              "      <td>Mamaw Emily’s Strawberry Cake</td>\n",
              "      <td>sp_aUSaElGf_82745_c_180512</td>\n",
              "      <td>u_1oKVbnueXfnlmYWuYH8xJ0mFxNQ</td>\n",
              "      <td>cafritz</td>\n",
              "      <td>1</td>\n",
              "      <td>1622717233</td>\n",
              "      <td>0</td>\n",
              "      <td>0</td>\n",
              "      <td>0</td>\n",
              "      <td>5</td>\n",
              "      <td>100</td>\n",
              "      <td>I just made this too.  It is wonderful.  As fo...</td>\n",
              "    </tr>\n",
              "    <tr>\n",
              "      <th>18181</th>\n",
              "      <td>118</td>\n",
              "      <td>100</td>\n",
              "      <td>82745</td>\n",
              "      <td>Mamaw Emily’s Strawberry Cake</td>\n",
              "      <td>sp_aUSaElGf_82745_c_262637</td>\n",
              "      <td>u_1oKW6W12cOLxiMzjA7j8nTqwFWG</td>\n",
              "      <td>nopalito</td>\n",
              "      <td>1</td>\n",
              "      <td>1622717625</td>\n",
              "      <td>0</td>\n",
              "      <td>1</td>\n",
              "      <td>0</td>\n",
              "      <td>5</td>\n",
              "      <td>193</td>\n",
              "      <td>OMG, you must make this cake. I made it for my...</td>\n",
              "    </tr>\n",
              "  </tbody>\n",
              "</table>\n",
              "</div>\n",
              "    <div class=\"colab-df-buttons\">\n",
              "\n",
              "  <div class=\"colab-df-container\">\n",
              "    <button class=\"colab-df-convert\" onclick=\"convertToInteractive('df-1a1a1c25-98d5-4d9c-8d56-7213614bebab')\"\n",
              "            title=\"Convert this dataframe to an interactive table.\"\n",
              "            style=\"display:none;\">\n",
              "\n",
              "  <svg xmlns=\"http://www.w3.org/2000/svg\" height=\"24px\" viewBox=\"0 -960 960 960\">\n",
              "    <path d=\"M120-120v-720h720v720H120Zm60-500h600v-160H180v160Zm220 220h160v-160H400v160Zm0 220h160v-160H400v160ZM180-400h160v-160H180v160Zm440 0h160v-160H620v160ZM180-180h160v-160H180v160Zm440 0h160v-160H620v160Z\"/>\n",
              "  </svg>\n",
              "    </button>\n",
              "\n",
              "  <style>\n",
              "    .colab-df-container {\n",
              "      display:flex;\n",
              "      gap: 12px;\n",
              "    }\n",
              "\n",
              "    .colab-df-convert {\n",
              "      background-color: #E8F0FE;\n",
              "      border: none;\n",
              "      border-radius: 50%;\n",
              "      cursor: pointer;\n",
              "      display: none;\n",
              "      fill: #1967D2;\n",
              "      height: 32px;\n",
              "      padding: 0 0 0 0;\n",
              "      width: 32px;\n",
              "    }\n",
              "\n",
              "    .colab-df-convert:hover {\n",
              "      background-color: #E2EBFA;\n",
              "      box-shadow: 0px 1px 2px rgba(60, 64, 67, 0.3), 0px 1px 3px 1px rgba(60, 64, 67, 0.15);\n",
              "      fill: #174EA6;\n",
              "    }\n",
              "\n",
              "    .colab-df-buttons div {\n",
              "      margin-bottom: 4px;\n",
              "    }\n",
              "\n",
              "    [theme=dark] .colab-df-convert {\n",
              "      background-color: #3B4455;\n",
              "      fill: #D2E3FC;\n",
              "    }\n",
              "\n",
              "    [theme=dark] .colab-df-convert:hover {\n",
              "      background-color: #434B5C;\n",
              "      box-shadow: 0px 1px 3px 1px rgba(0, 0, 0, 0.15);\n",
              "      filter: drop-shadow(0px 1px 2px rgba(0, 0, 0, 0.3));\n",
              "      fill: #FFFFFF;\n",
              "    }\n",
              "  </style>\n",
              "\n",
              "    <script>\n",
              "      const buttonEl =\n",
              "        document.querySelector('#df-1a1a1c25-98d5-4d9c-8d56-7213614bebab button.colab-df-convert');\n",
              "      buttonEl.style.display =\n",
              "        google.colab.kernel.accessAllowed ? 'block' : 'none';\n",
              "\n",
              "      async function convertToInteractive(key) {\n",
              "        const element = document.querySelector('#df-1a1a1c25-98d5-4d9c-8d56-7213614bebab');\n",
              "        const dataTable =\n",
              "          await google.colab.kernel.invokeFunction('convertToInteractive',\n",
              "                                                    [key], {});\n",
              "        if (!dataTable) return;\n",
              "\n",
              "        const docLinkHtml = 'Like what you see? Visit the ' +\n",
              "          '<a target=\"_blank\" href=https://colab.research.google.com/notebooks/data_table.ipynb>data table notebook</a>'\n",
              "          + ' to learn more about interactive tables.';\n",
              "        element.innerHTML = '';\n",
              "        dataTable['output_type'] = 'display_data';\n",
              "        await google.colab.output.renderOutput(dataTable, element);\n",
              "        const docLink = document.createElement('div');\n",
              "        docLink.innerHTML = docLinkHtml;\n",
              "        element.appendChild(docLink);\n",
              "      }\n",
              "    </script>\n",
              "  </div>\n",
              "\n",
              "\n",
              "<div id=\"df-fbdfdd99-dcd3-4455-9cd2-5f75a23f0517\">\n",
              "  <button class=\"colab-df-quickchart\" onclick=\"quickchart('df-fbdfdd99-dcd3-4455-9cd2-5f75a23f0517')\"\n",
              "            title=\"Suggest charts\"\n",
              "            style=\"display:none;\">\n",
              "\n",
              "<svg xmlns=\"http://www.w3.org/2000/svg\" height=\"24px\"viewBox=\"0 0 24 24\"\n",
              "     width=\"24px\">\n",
              "    <g>\n",
              "        <path d=\"M19 3H5c-1.1 0-2 .9-2 2v14c0 1.1.9 2 2 2h14c1.1 0 2-.9 2-2V5c0-1.1-.9-2-2-2zM9 17H7v-7h2v7zm4 0h-2V7h2v10zm4 0h-2v-4h2v4z\"/>\n",
              "    </g>\n",
              "</svg>\n",
              "  </button>\n",
              "\n",
              "<style>\n",
              "  .colab-df-quickchart {\n",
              "      --bg-color: #E8F0FE;\n",
              "      --fill-color: #1967D2;\n",
              "      --hover-bg-color: #E2EBFA;\n",
              "      --hover-fill-color: #174EA6;\n",
              "      --disabled-fill-color: #AAA;\n",
              "      --disabled-bg-color: #DDD;\n",
              "  }\n",
              "\n",
              "  [theme=dark] .colab-df-quickchart {\n",
              "      --bg-color: #3B4455;\n",
              "      --fill-color: #D2E3FC;\n",
              "      --hover-bg-color: #434B5C;\n",
              "      --hover-fill-color: #FFFFFF;\n",
              "      --disabled-bg-color: #3B4455;\n",
              "      --disabled-fill-color: #666;\n",
              "  }\n",
              "\n",
              "  .colab-df-quickchart {\n",
              "    background-color: var(--bg-color);\n",
              "    border: none;\n",
              "    border-radius: 50%;\n",
              "    cursor: pointer;\n",
              "    display: none;\n",
              "    fill: var(--fill-color);\n",
              "    height: 32px;\n",
              "    padding: 0;\n",
              "    width: 32px;\n",
              "  }\n",
              "\n",
              "  .colab-df-quickchart:hover {\n",
              "    background-color: var(--hover-bg-color);\n",
              "    box-shadow: 0 1px 2px rgba(60, 64, 67, 0.3), 0 1px 3px 1px rgba(60, 64, 67, 0.15);\n",
              "    fill: var(--button-hover-fill-color);\n",
              "  }\n",
              "\n",
              "  .colab-df-quickchart-complete:disabled,\n",
              "  .colab-df-quickchart-complete:disabled:hover {\n",
              "    background-color: var(--disabled-bg-color);\n",
              "    fill: var(--disabled-fill-color);\n",
              "    box-shadow: none;\n",
              "  }\n",
              "\n",
              "  .colab-df-spinner {\n",
              "    border: 2px solid var(--fill-color);\n",
              "    border-color: transparent;\n",
              "    border-bottom-color: var(--fill-color);\n",
              "    animation:\n",
              "      spin 1s steps(1) infinite;\n",
              "  }\n",
              "\n",
              "  @keyframes spin {\n",
              "    0% {\n",
              "      border-color: transparent;\n",
              "      border-bottom-color: var(--fill-color);\n",
              "      border-left-color: var(--fill-color);\n",
              "    }\n",
              "    20% {\n",
              "      border-color: transparent;\n",
              "      border-left-color: var(--fill-color);\n",
              "      border-top-color: var(--fill-color);\n",
              "    }\n",
              "    30% {\n",
              "      border-color: transparent;\n",
              "      border-left-color: var(--fill-color);\n",
              "      border-top-color: var(--fill-color);\n",
              "      border-right-color: var(--fill-color);\n",
              "    }\n",
              "    40% {\n",
              "      border-color: transparent;\n",
              "      border-right-color: var(--fill-color);\n",
              "      border-top-color: var(--fill-color);\n",
              "    }\n",
              "    60% {\n",
              "      border-color: transparent;\n",
              "      border-right-color: var(--fill-color);\n",
              "    }\n",
              "    80% {\n",
              "      border-color: transparent;\n",
              "      border-right-color: var(--fill-color);\n",
              "      border-bottom-color: var(--fill-color);\n",
              "    }\n",
              "    90% {\n",
              "      border-color: transparent;\n",
              "      border-bottom-color: var(--fill-color);\n",
              "    }\n",
              "  }\n",
              "</style>\n",
              "\n",
              "  <script>\n",
              "    async function quickchart(key) {\n",
              "      const quickchartButtonEl =\n",
              "        document.querySelector('#' + key + ' button');\n",
              "      quickchartButtonEl.disabled = true;  // To prevent multiple clicks.\n",
              "      quickchartButtonEl.classList.add('colab-df-spinner');\n",
              "      try {\n",
              "        const charts = await google.colab.kernel.invokeFunction(\n",
              "            'suggestCharts', [key], {});\n",
              "      } catch (error) {\n",
              "        console.error('Error during call to suggestCharts:', error);\n",
              "      }\n",
              "      quickchartButtonEl.classList.remove('colab-df-spinner');\n",
              "      quickchartButtonEl.classList.add('colab-df-quickchart-complete');\n",
              "    }\n",
              "    (() => {\n",
              "      let quickchartButtonEl =\n",
              "        document.querySelector('#df-fbdfdd99-dcd3-4455-9cd2-5f75a23f0517 button');\n",
              "      quickchartButtonEl.style.display =\n",
              "        google.colab.kernel.accessAllowed ? 'block' : 'none';\n",
              "    })();\n",
              "  </script>\n",
              "</div>\n",
              "\n",
              "    </div>\n",
              "  </div>\n"
            ],
            "application/vnd.google.colaboratory.intrinsic+json": {
              "type": "dataframe",
              "summary": "{\n  \"name\": \"data\",\n  \"rows\": 5,\n  \"fields\": [\n    {\n      \"column\": \"Unnamed: 0\",\n      \"properties\": {\n        \"dtype\": \"number\",\n        \"std\": 1,\n        \"min\": 114,\n        \"max\": 118,\n        \"num_unique_values\": 5,\n        \"samples\": [\n          115,\n          118,\n          116\n        ],\n        \"semantic_type\": \"\",\n        \"description\": \"\"\n      }\n    },\n    {\n      \"column\": \"recipe_number\",\n      \"properties\": {\n        \"dtype\": \"number\",\n        \"std\": 0,\n        \"min\": 100,\n        \"max\": 100,\n        \"num_unique_values\": 1,\n        \"samples\": [\n          100\n        ],\n        \"semantic_type\": \"\",\n        \"description\": \"\"\n      }\n    },\n    {\n      \"column\": \"recipe_code\",\n      \"properties\": {\n        \"dtype\": \"number\",\n        \"std\": 0,\n        \"min\": 82745,\n        \"max\": 82745,\n        \"num_unique_values\": 1,\n        \"samples\": [\n          82745\n        ],\n        \"semantic_type\": \"\",\n        \"description\": \"\"\n      }\n    },\n    {\n      \"column\": \"recipe_name\",\n      \"properties\": {\n        \"dtype\": \"category\",\n        \"num_unique_values\": 1,\n        \"samples\": [\n          \"Mamaw Emily\\u2019s Strawberry Cake\"\n        ],\n        \"semantic_type\": \"\",\n        \"description\": \"\"\n      }\n    },\n    {\n      \"column\": \"comment_id\",\n      \"properties\": {\n        \"dtype\": \"string\",\n        \"num_unique_values\": 5,\n        \"samples\": [\n          \"sp_aUSaElGf_82745_c_204836\"\n        ],\n        \"semantic_type\": \"\",\n        \"description\": \"\"\n      }\n    },\n    {\n      \"column\": \"user_id\",\n      \"properties\": {\n        \"dtype\": \"string\",\n        \"num_unique_values\": 5,\n        \"samples\": [\n          \"u_1oKY7CKLaFQpI3cBCVaxHXAEGbt\"\n        ],\n        \"semantic_type\": \"\",\n        \"description\": \"\"\n      }\n    },\n    {\n      \"column\": \"user_name\",\n      \"properties\": {\n        \"dtype\": \"string\",\n        \"num_unique_values\": 5,\n        \"samples\": [\n          \"susieswan\"\n        ],\n        \"semantic_type\": \"\",\n        \"description\": \"\"\n      }\n    },\n    {\n      \"column\": \"user_reputation\",\n      \"properties\": {\n        \"dtype\": \"number\",\n        \"std\": 0,\n        \"min\": 1,\n        \"max\": 1,\n        \"num_unique_values\": 1,\n        \"samples\": [\n          1\n        ],\n        \"semantic_type\": \"\",\n        \"description\": \"\"\n      }\n    },\n    {\n      \"column\": \"created_at\",\n      \"properties\": {\n        \"dtype\": \"number\",\n        \"std\": 4329452,\n        \"min\": 1613036720,\n        \"max\": 1622717977,\n        \"num_unique_values\": 5,\n        \"samples\": [\n          1613036720\n        ],\n        \"semantic_type\": \"\",\n        \"description\": \"\"\n      }\n    },\n    {\n      \"column\": \"reply_count\",\n      \"properties\": {\n        \"dtype\": \"number\",\n        \"std\": 0,\n        \"min\": 0,\n        \"max\": 0,\n        \"num_unique_values\": 1,\n        \"samples\": [\n          0\n        ],\n        \"semantic_type\": \"\",\n        \"description\": \"\"\n      }\n    },\n    {\n      \"column\": \"thumbs_up\",\n      \"properties\": {\n        \"dtype\": \"number\",\n        \"std\": 0,\n        \"min\": 0,\n        \"max\": 1,\n        \"num_unique_values\": 2,\n        \"samples\": [\n          1\n        ],\n        \"semantic_type\": \"\",\n        \"description\": \"\"\n      }\n    },\n    {\n      \"column\": \"thumbs_down\",\n      \"properties\": {\n        \"dtype\": \"number\",\n        \"std\": 0,\n        \"min\": 0,\n        \"max\": 0,\n        \"num_unique_values\": 1,\n        \"samples\": [\n          0\n        ],\n        \"semantic_type\": \"\",\n        \"description\": \"\"\n      }\n    },\n    {\n      \"column\": \"stars\",\n      \"properties\": {\n        \"dtype\": \"number\",\n        \"std\": 0,\n        \"min\": 5,\n        \"max\": 5,\n        \"num_unique_values\": 1,\n        \"samples\": [\n          5\n        ],\n        \"semantic_type\": \"\",\n        \"description\": \"\"\n      }\n    },\n    {\n      \"column\": \"best_score\",\n      \"properties\": {\n        \"dtype\": \"number\",\n        \"std\": 41,\n        \"min\": 100,\n        \"max\": 193,\n        \"num_unique_values\": 2,\n        \"samples\": [\n          193\n        ],\n        \"semantic_type\": \"\",\n        \"description\": \"\"\n      }\n    },\n    {\n      \"column\": \"text\",\n      \"properties\": {\n        \"dtype\": \"string\",\n        \"num_unique_values\": 5,\n        \"samples\": [\n          \"<p>I received endless compliments on this cake. I used firmer strawberries so the cake held up for several days and I added a thin layer of strawberry jam with the frosting between the layers. I kept the cake in the refrigerator and it was real easy to cut. My husband said it&#39;s a keeper recipe!</p>\"\n        ],\n        \"semantic_type\": \"\",\n        \"description\": \"\"\n      }\n    }\n  ]\n}"
            }
          },
          "metadata": {},
          "execution_count": 6
        }
      ],
      "source": [
        "data.tail()"
      ]
    },
    {
      "cell_type": "markdown",
      "source": [
        "Displaying the total number of columns and rows"
      ],
      "metadata": {
        "id": "BnhTXcaIGJf5"
      }
    },
    {
      "cell_type": "code",
      "execution_count": 7,
      "metadata": {
        "colab": {
          "base_uri": "https://localhost:8080/"
        },
        "id": "CqnJVe97eVsg",
        "outputId": "30bf7341-2d3c-4757-804a-b571fb81d04c"
      },
      "outputs": [
        {
          "output_type": "execute_result",
          "data": {
            "text/plain": [
              "(18182, 15)"
            ]
          },
          "metadata": {},
          "execution_count": 7
        }
      ],
      "source": [
        "data.shape"
      ]
    },
    {
      "cell_type": "markdown",
      "source": [],
      "metadata": {
        "id": "KxerAu4oHlB8"
      }
    },
    {
      "cell_type": "markdown",
      "source": [
        "Now sorting data to show only int and float"
      ],
      "metadata": {
        "id": "J5vyPaJeIB1B"
      }
    },
    {
      "cell_type": "code",
      "source": [
        "datainteger = data.select_dtypes(include=['number'])"
      ],
      "metadata": {
        "id": "IZKK0rzyHjg0"
      },
      "execution_count": 8,
      "outputs": []
    },
    {
      "cell_type": "code",
      "source": [
        "datainteger.skew()"
      ],
      "metadata": {
        "id": "fV2p4mhZQy2z",
        "colab": {
          "base_uri": "https://localhost:8080/",
          "height": 398
        },
        "outputId": "7658cd68-8171-491a-f042-c342bde4f0bb"
      },
      "execution_count": 9,
      "outputs": [
        {
          "output_type": "execute_result",
          "data": {
            "text/plain": [
              "Unnamed: 0          2.111974\n",
              "recipe_number       0.458893\n",
              "recipe_code         3.443731\n",
              "user_reputation    33.718475\n",
              "created_at          5.449677\n",
              "reply_count        11.283080\n",
              "thumbs_up           8.414118\n",
              "thumbs_down        17.890266\n",
              "stars              -2.128602\n",
              "best_score          3.402575\n",
              "dtype: float64"
            ],
            "text/html": [
              "<div>\n",
              "<style scoped>\n",
              "    .dataframe tbody tr th:only-of-type {\n",
              "        vertical-align: middle;\n",
              "    }\n",
              "\n",
              "    .dataframe tbody tr th {\n",
              "        vertical-align: top;\n",
              "    }\n",
              "\n",
              "    .dataframe thead th {\n",
              "        text-align: right;\n",
              "    }\n",
              "</style>\n",
              "<table border=\"1\" class=\"dataframe\">\n",
              "  <thead>\n",
              "    <tr style=\"text-align: right;\">\n",
              "      <th></th>\n",
              "      <th>0</th>\n",
              "    </tr>\n",
              "  </thead>\n",
              "  <tbody>\n",
              "    <tr>\n",
              "      <th>Unnamed: 0</th>\n",
              "      <td>2.111974</td>\n",
              "    </tr>\n",
              "    <tr>\n",
              "      <th>recipe_number</th>\n",
              "      <td>0.458893</td>\n",
              "    </tr>\n",
              "    <tr>\n",
              "      <th>recipe_code</th>\n",
              "      <td>3.443731</td>\n",
              "    </tr>\n",
              "    <tr>\n",
              "      <th>user_reputation</th>\n",
              "      <td>33.718475</td>\n",
              "    </tr>\n",
              "    <tr>\n",
              "      <th>created_at</th>\n",
              "      <td>5.449677</td>\n",
              "    </tr>\n",
              "    <tr>\n",
              "      <th>reply_count</th>\n",
              "      <td>11.283080</td>\n",
              "    </tr>\n",
              "    <tr>\n",
              "      <th>thumbs_up</th>\n",
              "      <td>8.414118</td>\n",
              "    </tr>\n",
              "    <tr>\n",
              "      <th>thumbs_down</th>\n",
              "      <td>17.890266</td>\n",
              "    </tr>\n",
              "    <tr>\n",
              "      <th>stars</th>\n",
              "      <td>-2.128602</td>\n",
              "    </tr>\n",
              "    <tr>\n",
              "      <th>best_score</th>\n",
              "      <td>3.402575</td>\n",
              "    </tr>\n",
              "  </tbody>\n",
              "</table>\n",
              "</div><br><label><b>dtype:</b> float64</label>"
            ]
          },
          "metadata": {},
          "execution_count": 9
        }
      ]
    },
    {
      "cell_type": "markdown",
      "source": [
        "**finding if any null values are there**"
      ],
      "metadata": {
        "id": "5zzQmp5nG9X5"
      }
    },
    {
      "cell_type": "code",
      "source": [
        "datainteger.isnull().sum()"
      ],
      "metadata": {
        "colab": {
          "base_uri": "https://localhost:8080/",
          "height": 398
        },
        "id": "YxdHm0EGG7VE",
        "outputId": "d951cb6d-1c2f-421a-f3ca-15ed715e777c"
      },
      "execution_count": 10,
      "outputs": [
        {
          "output_type": "execute_result",
          "data": {
            "text/plain": [
              "Unnamed: 0         0\n",
              "recipe_number      0\n",
              "recipe_code        0\n",
              "user_reputation    0\n",
              "created_at         0\n",
              "reply_count        0\n",
              "thumbs_up          0\n",
              "thumbs_down        0\n",
              "stars              0\n",
              "best_score         0\n",
              "dtype: int64"
            ],
            "text/html": [
              "<div>\n",
              "<style scoped>\n",
              "    .dataframe tbody tr th:only-of-type {\n",
              "        vertical-align: middle;\n",
              "    }\n",
              "\n",
              "    .dataframe tbody tr th {\n",
              "        vertical-align: top;\n",
              "    }\n",
              "\n",
              "    .dataframe thead th {\n",
              "        text-align: right;\n",
              "    }\n",
              "</style>\n",
              "<table border=\"1\" class=\"dataframe\">\n",
              "  <thead>\n",
              "    <tr style=\"text-align: right;\">\n",
              "      <th></th>\n",
              "      <th>0</th>\n",
              "    </tr>\n",
              "  </thead>\n",
              "  <tbody>\n",
              "    <tr>\n",
              "      <th>Unnamed: 0</th>\n",
              "      <td>0</td>\n",
              "    </tr>\n",
              "    <tr>\n",
              "      <th>recipe_number</th>\n",
              "      <td>0</td>\n",
              "    </tr>\n",
              "    <tr>\n",
              "      <th>recipe_code</th>\n",
              "      <td>0</td>\n",
              "    </tr>\n",
              "    <tr>\n",
              "      <th>user_reputation</th>\n",
              "      <td>0</td>\n",
              "    </tr>\n",
              "    <tr>\n",
              "      <th>created_at</th>\n",
              "      <td>0</td>\n",
              "    </tr>\n",
              "    <tr>\n",
              "      <th>reply_count</th>\n",
              "      <td>0</td>\n",
              "    </tr>\n",
              "    <tr>\n",
              "      <th>thumbs_up</th>\n",
              "      <td>0</td>\n",
              "    </tr>\n",
              "    <tr>\n",
              "      <th>thumbs_down</th>\n",
              "      <td>0</td>\n",
              "    </tr>\n",
              "    <tr>\n",
              "      <th>stars</th>\n",
              "      <td>0</td>\n",
              "    </tr>\n",
              "    <tr>\n",
              "      <th>best_score</th>\n",
              "      <td>0</td>\n",
              "    </tr>\n",
              "  </tbody>\n",
              "</table>\n",
              "</div><br><label><b>dtype:</b> int64</label>"
            ]
          },
          "metadata": {},
          "execution_count": 10
        }
      ]
    },
    {
      "cell_type": "code",
      "source": [
        "datainteger.duplicated().sum()"
      ],
      "metadata": {
        "colab": {
          "base_uri": "https://localhost:8080/"
        },
        "id": "ww48mJBkHSyk",
        "outputId": "db2f9e1f-72f0-41f8-9ef2-f4f0cc465117"
      },
      "execution_count": 11,
      "outputs": [
        {
          "output_type": "execute_result",
          "data": {
            "text/plain": [
              "np.int64(0)"
            ]
          },
          "metadata": {},
          "execution_count": 11
        }
      ]
    },
    {
      "cell_type": "markdown",
      "source": [
        "drawing the histogram to show how the skewness is left skewed ,right skewed etc.. can be known form here\n",
        "\n",
        "\n"
      ],
      "metadata": {
        "id": "RHcQ71dFGNKn"
      }
    },
    {
      "cell_type": "code",
      "execution_count": 12,
      "metadata": {
        "colab": {
          "base_uri": "https://localhost:8080/",
          "height": 470
        },
        "id": "3EXP9HlvedXT",
        "outputId": "c25ba14b-9aa9-4f17-b1fc-4bfcef01294a"
      },
      "outputs": [
        {
          "output_type": "execute_result",
          "data": {
            "text/plain": [
              "Text(0.5, 0, 'Histogram')"
            ]
          },
          "metadata": {},
          "execution_count": 12
        },
        {
          "output_type": "display_data",
          "data": {
            "text/plain": [
              "<Figure size 640x480 with 12 Axes>"
            ],
            "image/png": "[encoded data removed]"
          },
          "metadata": {}
        }
      ],
      "source": [
        "#checking the data with boxplot and histogram\n",
        "datainteger.hist(bins=30)\n",
        "plt.xlabel(\"Histogram\")"
      ]
    },
    {
      "cell_type": "code",
      "source": [
        "for i in datainteger.columns:\n",
        "  sns.boxplot(data=datainteger,x=i)\n",
        "  plt.show()"
      ],
      "metadata": {
        "colab": {
          "base_uri": "https://localhost:8080/",
          "height": 1000
        },
        "id": "ZzxsECUPE59h",
        "outputId": "ee23d867-1ec6-408f-acca-aaf985220aec"
      },
      "execution_count": 13,
      "outputs": [
        {
          "output_type": "display_data",
          "data": {
            "text/plain": [
              "<Figure size 640x480 with 1 Axes>"
            ],
            "image/png": "[encoded data removed]"
          },
          "metadata": {}
        },
        {
          "output_type": "display_data",
          "data": {
            "text/plain": [
              "<Figure size 640x480 with 1 Axes>"
            ],
            "image/png": "[encoded data removed]"
          },
          "metadata": {}
        },
        {
          "output_type": "display_data",
          "data": {
            "text/plain": [
              "<Figure size 640x480 with 1 Axes>"
            ],
            "image/png": "[encoded data removed]"
          },
          "metadata": {}
        },
        {
          "output_type": "display_data",
          "data": {
            "text/plain": [
              "<Figure size 640x480 with 1 Axes>"
            ],
            "image/png": "[encoded data removed]"
          },
          "metadata": {}
        },
        {
          "output_type": "display_data",
          "data": {
            "text/plain": [
              "<Figure size 640x480 with 1 Axes>"
            ],
            "image/png": "[encoded data removed]"
          },
          "metadata": {}
        },
        {
          "output_type": "display_data",
          "data": {
            "text/plain": [
              "<Figure size 640x480 with 1 Axes>"
            ],
            "image/png": "[encoded data removed]"
          },
          "metadata": {}
        },
        {
          "output_type": "display_data",
          "data": {
            "text/plain": [
              "<Figure size 640x480 with 1 Axes>"
            ],
            "image/png": "[encoded data removed]"
          },
          "metadata": {}
        },
        {
          "output_type": "display_data",
          "data": {
            "text/plain": [
              "<Figure size 640x480 with 1 Axes>"
            ],
            "image/png": "[encoded data removed]"
          },
          "metadata": {}
        },
        {
          "output_type": "display_data",
          "data": {
            "text/plain": [
              "<Figure size 640x480 with 1 Axes>"
            ],
            "image/png": "[encoded data removed]"
          },
          "metadata": {}
        },
        {
          "output_type": "display_data",
          "data": {
            "text/plain": [
              "<Figure size 640x480 with 1 Axes>"
            ],
            "image/png": "[encoded data removed]"
          },
          "metadata": {}
        }
      ]
    },
    {
      "cell_type": "markdown",
      "source": [
        "**Apply winsorization to reduce the skewness**"
      ],
      "metadata": {
        "id": "-HLufwmmJQpa"
      }
    },
    {
      "cell_type": "markdown",
      "source": [
        "Checking the skewness to know if the data can be used for buiding the model"
      ],
      "metadata": {
        "id": "BsHP1IEqLF5y"
      }
    },
    {
      "cell_type": "markdown",
      "source": [
        "**Using the IQR method  to find the outliers and capping it.**"
      ],
      "metadata": {
        "id": "0Q1wcYyELODf"
      }
    },
    {
      "cell_type": "code",
      "source": [
        "# iqrcols=['reply_count','user_reputation','best_score','thumbs_up','thumbs_down','stars']\n",
        "iqrcols=['reply_count']\n",
        "for col in iqrcols:\n",
        "    # Calculate IQR bounds\n",
        "    iqr1 = datainteger[col].quantile(0.25)  # Q1\n",
        "    iqr3 = datainteger[col].quantile(0.75)  # Q3\n",
        "    iqr = iqr3 - iqr1\n",
        "    lowerwisk = iqr1 - (1.5 * iqr)\n",
        "    upperwisk = iqr3 + (1.5 * iqr)\n",
        "\n",
        "    # Apply IQR treatment (cap outliers)\n",
        "    datainteger[col] = datainteger[col].apply(lambda x: lowerwisk if x < lowerwisk else upperwisk if x > upperwisk else x)\n"
      ],
      "metadata": {
        "id": "Q8jHbuZmZX2d"
      },
      "execution_count": 14,
      "outputs": []
    },
    {
      "cell_type": "markdown",
      "source": [],
      "metadata": {
        "id": "WoSv3WtZwdtH"
      }
    },
    {
      "cell_type": "code",
      "source": [
        "datainteger.skew()"
      ],
      "metadata": {
        "id": "HYEwILYBTkQ7",
        "colab": {
          "base_uri": "https://localhost:8080/",
          "height": 398
        },
        "outputId": "40e5c366-68c1-47f6-88f5-75279701b549"
      },
      "execution_count": 15,
      "outputs": [
        {
          "output_type": "execute_result",
          "data": {
            "text/plain": [
              "Unnamed: 0          2.111974\n",
              "recipe_number       0.458893\n",
              "recipe_code         3.443731\n",
              "user_reputation    33.718475\n",
              "created_at          5.449677\n",
              "reply_count         0.000000\n",
              "thumbs_up           8.414118\n",
              "thumbs_down        17.890266\n",
              "stars              -2.128602\n",
              "best_score          3.402575\n",
              "dtype: float64"
            ],
            "text/html": [
              "<div>\n",
              "<style scoped>\n",
              "    .dataframe tbody tr th:only-of-type {\n",
              "        vertical-align: middle;\n",
              "    }\n",
              "\n",
              "    .dataframe tbody tr th {\n",
              "        vertical-align: top;\n",
              "    }\n",
              "\n",
              "    .dataframe thead th {\n",
              "        text-align: right;\n",
              "    }\n",
              "</style>\n",
              "<table border=\"1\" class=\"dataframe\">\n",
              "  <thead>\n",
              "    <tr style=\"text-align: right;\">\n",
              "      <th></th>\n",
              "      <th>0</th>\n",
              "    </tr>\n",
              "  </thead>\n",
              "  <tbody>\n",
              "    <tr>\n",
              "      <th>Unnamed: 0</th>\n",
              "      <td>2.111974</td>\n",
              "    </tr>\n",
              "    <tr>\n",
              "      <th>recipe_number</th>\n",
              "      <td>0.458893</td>\n",
              "    </tr>\n",
              "    <tr>\n",
              "      <th>recipe_code</th>\n",
              "      <td>3.443731</td>\n",
              "    </tr>\n",
              "    <tr>\n",
              "      <th>user_reputation</th>\n",
              "      <td>33.718475</td>\n",
              "    </tr>\n",
              "    <tr>\n",
              "      <th>created_at</th>\n",
              "      <td>5.449677</td>\n",
              "    </tr>\n",
              "    <tr>\n",
              "      <th>reply_count</th>\n",
              "      <td>0.000000</td>\n",
              "    </tr>\n",
              "    <tr>\n",
              "      <th>thumbs_up</th>\n",
              "      <td>8.414118</td>\n",
              "    </tr>\n",
              "    <tr>\n",
              "      <th>thumbs_down</th>\n",
              "      <td>17.890266</td>\n",
              "    </tr>\n",
              "    <tr>\n",
              "      <th>stars</th>\n",
              "      <td>-2.128602</td>\n",
              "    </tr>\n",
              "    <tr>\n",
              "      <th>best_score</th>\n",
              "      <td>3.402575</td>\n",
              "    </tr>\n",
              "  </tbody>\n",
              "</table>\n",
              "</div><br><label><b>dtype:</b> float64</label>"
            ]
          },
          "metadata": {},
          "execution_count": 15
        }
      ]
    },
    {
      "cell_type": "markdown",
      "source": [
        "**using transformation to reduce the skewness by transforming the data**"
      ],
      "metadata": {
        "id": "sS1wZrF8a6Ey"
      }
    },
    {
      "cell_type": "code",
      "source": [
        "# Add a larger shift to avoid log(0) and reduce skewness\n",
        "# datainteger['thumbs_up'] = np.log1p(datainteger['thumbs_up']+100)\n",
        "# datainteger['thumbs_down'] = np.log1p(datainteger['thumbs_down']+100)\n",
        "\n",
        "\n",
        "columns_to_transform = ['Unnamed: 0','recipe_code','reply_count', 'created_at', 'best_score', 'thumbs_up', 'thumbs_down']\n",
        "\n",
        "for collog in columns_to_transform:\n",
        "  datainteger[collog]=np.log1p(datainteger[collog])\n",
        "\n",
        "# for cols in columns_to_transform:\n",
        "#   datainteger[cols]=np.sqrt(datainteger[cols])\n",
        "\n",
        "# for cols in columns_to_transform:\n",
        "#   datainteger[cols]=np.cbrt(datainteger[cols])"
      ],
      "metadata": {
        "id": "q1cJX3xZay0Y"
      },
      "execution_count": 16,
      "outputs": []
    },
    {
      "cell_type": "code",
      "source": [
        "datainteger.skew()"
      ],
      "metadata": {
        "colab": {
          "base_uri": "https://localhost:8080/",
          "height": 398
        },
        "id": "WsUPJtMen_oI",
        "outputId": "a2054fa4-baeb-4878-9a04-4527e1a8f7e7"
      },
      "execution_count": 17,
      "outputs": [
        {
          "output_type": "execute_result",
          "data": {
            "text/plain": [
              "Unnamed: 0         -0.973161\n",
              "recipe_number       0.458893\n",
              "recipe_code        -0.710209\n",
              "user_reputation    33.718475\n",
              "created_at          5.430625\n",
              "reply_count         0.000000\n",
              "thumbs_up           2.605970\n",
              "thumbs_down         3.927082\n",
              "stars              -2.128602\n",
              "best_score          1.827808\n",
              "dtype: float64"
            ],
            "text/html": [
              "<div>\n",
              "<style scoped>\n",
              "    .dataframe tbody tr th:only-of-type {\n",
              "        vertical-align: middle;\n",
              "    }\n",
              "\n",
              "    .dataframe tbody tr th {\n",
              "        vertical-align: top;\n",
              "    }\n",
              "\n",
              "    .dataframe thead th {\n",
              "        text-align: right;\n",
              "    }\n",
              "</style>\n",
              "<table border=\"1\" class=\"dataframe\">\n",
              "  <thead>\n",
              "    <tr style=\"text-align: right;\">\n",
              "      <th></th>\n",
              "      <th>0</th>\n",
              "    </tr>\n",
              "  </thead>\n",
              "  <tbody>\n",
              "    <tr>\n",
              "      <th>Unnamed: 0</th>\n",
              "      <td>-0.973161</td>\n",
              "    </tr>\n",
              "    <tr>\n",
              "      <th>recipe_number</th>\n",
              "      <td>0.458893</td>\n",
              "    </tr>\n",
              "    <tr>\n",
              "      <th>recipe_code</th>\n",
              "      <td>-0.710209</td>\n",
              "    </tr>\n",
              "    <tr>\n",
              "      <th>user_reputation</th>\n",
              "      <td>33.718475</td>\n",
              "    </tr>\n",
              "    <tr>\n",
              "      <th>created_at</th>\n",
              "      <td>5.430625</td>\n",
              "    </tr>\n",
              "    <tr>\n",
              "      <th>reply_count</th>\n",
              "      <td>0.000000</td>\n",
              "    </tr>\n",
              "    <tr>\n",
              "      <th>thumbs_up</th>\n",
              "      <td>2.605970</td>\n",
              "    </tr>\n",
              "    <tr>\n",
              "      <th>thumbs_down</th>\n",
              "      <td>3.927082</td>\n",
              "    </tr>\n",
              "    <tr>\n",
              "      <th>stars</th>\n",
              "      <td>-2.128602</td>\n",
              "    </tr>\n",
              "    <tr>\n",
              "      <th>best_score</th>\n",
              "      <td>1.827808</td>\n",
              "    </tr>\n",
              "  </tbody>\n",
              "</table>\n",
              "</div><br><label><b>dtype:</b> float64</label>"
            ]
          },
          "metadata": {},
          "execution_count": 17
        }
      ]
    },
    {
      "cell_type": "markdown",
      "source": [
        "**Making the data more distributed using power transformtion methods**"
      ],
      "metadata": {
        "id": "dX8HEcyDogvq"
      }
    },
    {
      "cell_type": "code",
      "source": [
        "pt = PowerTransformer(method='yeo-johnson', standardize=True)\n",
        "high_skew = ['Unnamed: 0','recipe_code','reply_count','stars','user_reputation']\n",
        "for col in high_skew:\n",
        "\n",
        "    datainteger[col] = pt.fit_transform(datainteger[[col]])"
      ],
      "metadata": {
        "id": "kRK528mooeAI"
      },
      "execution_count": 18,
      "outputs": []
    },
    {
      "cell_type": "code",
      "source": [
        "datainteger.skew()"
      ],
      "metadata": {
        "colab": {
          "base_uri": "https://localhost:8080/",
          "height": 398
        },
        "id": "y90PH8ezo9bM",
        "outputId": "0bdb23f6-1fa0-4593-c407-b6dc7ed459e4"
      },
      "execution_count": 19,
      "outputs": [
        {
          "output_type": "execute_result",
          "data": {
            "text/plain": [
              "Unnamed: 0        -0.063692\n",
              "recipe_number      0.458893\n",
              "recipe_code       -0.074551\n",
              "user_reputation   -1.548602\n",
              "created_at         5.430625\n",
              "reply_count        0.000000\n",
              "thumbs_up          2.605970\n",
              "thumbs_down        3.927082\n",
              "stars             -1.527327\n",
              "best_score         1.827808\n",
              "dtype: float64"
            ],
            "text/html": [
              "<div>\n",
              "<style scoped>\n",
              "    .dataframe tbody tr th:only-of-type {\n",
              "        vertical-align: middle;\n",
              "    }\n",
              "\n",
              "    .dataframe tbody tr th {\n",
              "        vertical-align: top;\n",
              "    }\n",
              "\n",
              "    .dataframe thead th {\n",
              "        text-align: right;\n",
              "    }\n",
              "</style>\n",
              "<table border=\"1\" class=\"dataframe\">\n",
              "  <thead>\n",
              "    <tr style=\"text-align: right;\">\n",
              "      <th></th>\n",
              "      <th>0</th>\n",
              "    </tr>\n",
              "  </thead>\n",
              "  <tbody>\n",
              "    <tr>\n",
              "      <th>Unnamed: 0</th>\n",
              "      <td>-0.063692</td>\n",
              "    </tr>\n",
              "    <tr>\n",
              "      <th>recipe_number</th>\n",
              "      <td>0.458893</td>\n",
              "    </tr>\n",
              "    <tr>\n",
              "      <th>recipe_code</th>\n",
              "      <td>-0.074551</td>\n",
              "    </tr>\n",
              "    <tr>\n",
              "      <th>user_reputation</th>\n",
              "      <td>-1.548602</td>\n",
              "    </tr>\n",
              "    <tr>\n",
              "      <th>created_at</th>\n",
              "      <td>5.430625</td>\n",
              "    </tr>\n",
              "    <tr>\n",
              "      <th>reply_count</th>\n",
              "      <td>0.000000</td>\n",
              "    </tr>\n",
              "    <tr>\n",
              "      <th>thumbs_up</th>\n",
              "      <td>2.605970</td>\n",
              "    </tr>\n",
              "    <tr>\n",
              "      <th>thumbs_down</th>\n",
              "      <td>3.927082</td>\n",
              "    </tr>\n",
              "    <tr>\n",
              "      <th>stars</th>\n",
              "      <td>-1.527327</td>\n",
              "    </tr>\n",
              "    <tr>\n",
              "      <th>best_score</th>\n",
              "      <td>1.827808</td>\n",
              "    </tr>\n",
              "  </tbody>\n",
              "</table>\n",
              "</div><br><label><b>dtype:</b> float64</label>"
            ]
          },
          "metadata": {},
          "execution_count": 19
        }
      ]
    },
    {
      "cell_type": "markdown",
      "source": [
        "**DATA TRANSFORMATION: Using BOX- COX to reduce the skewness of data**"
      ],
      "metadata": {
        "id": "JvuKvbXQpqDT"
      }
    },
    {
      "cell_type": "code",
      "source": [
        "high_skew_boxcox = ['user_reputation','thumbs_up','thumbs_down','stars','best_score']\n",
        "for col in high_skew_boxcox :\n",
        "  if (datainteger[col] > 0).all():\n",
        "    datainteger[col], _ = boxcox(datainteger[col] + 1e-6)"
      ],
      "metadata": {
        "id": "eoUKFLpYqHFk"
      },
      "execution_count": 20,
      "outputs": []
    },
    {
      "cell_type": "code",
      "source": [
        "datainteger.skew()"
      ],
      "metadata": {
        "colab": {
          "base_uri": "https://localhost:8080/",
          "height": 398
        },
        "id": "CT3JZ6iju6F6",
        "outputId": "cbd6bebd-de64-42c4-eed1-39f575ce5584"
      },
      "execution_count": 21,
      "outputs": [
        {
          "output_type": "execute_result",
          "data": {
            "text/plain": [
              "Unnamed: 0        -0.063692\n",
              "recipe_number      0.458893\n",
              "recipe_code       -0.074551\n",
              "user_reputation   -1.548602\n",
              "created_at         5.430625\n",
              "reply_count        0.000000\n",
              "thumbs_up          2.605970\n",
              "thumbs_down        3.927082\n",
              "stars             -1.527327\n",
              "best_score         1.827808\n",
              "dtype: float64"
            ],
            "text/html": [
              "<div>\n",
              "<style scoped>\n",
              "    .dataframe tbody tr th:only-of-type {\n",
              "        vertical-align: middle;\n",
              "    }\n",
              "\n",
              "    .dataframe tbody tr th {\n",
              "        vertical-align: top;\n",
              "    }\n",
              "\n",
              "    .dataframe thead th {\n",
              "        text-align: right;\n",
              "    }\n",
              "</style>\n",
              "<table border=\"1\" class=\"dataframe\">\n",
              "  <thead>\n",
              "    <tr style=\"text-align: right;\">\n",
              "      <th></th>\n",
              "      <th>0</th>\n",
              "    </tr>\n",
              "  </thead>\n",
              "  <tbody>\n",
              "    <tr>\n",
              "      <th>Unnamed: 0</th>\n",
              "      <td>-0.063692</td>\n",
              "    </tr>\n",
              "    <tr>\n",
              "      <th>recipe_number</th>\n",
              "      <td>0.458893</td>\n",
              "    </tr>\n",
              "    <tr>\n",
              "      <th>recipe_code</th>\n",
              "      <td>-0.074551</td>\n",
              "    </tr>\n",
              "    <tr>\n",
              "      <th>user_reputation</th>\n",
              "      <td>-1.548602</td>\n",
              "    </tr>\n",
              "    <tr>\n",
              "      <th>created_at</th>\n",
              "      <td>5.430625</td>\n",
              "    </tr>\n",
              "    <tr>\n",
              "      <th>reply_count</th>\n",
              "      <td>0.000000</td>\n",
              "    </tr>\n",
              "    <tr>\n",
              "      <th>thumbs_up</th>\n",
              "      <td>2.605970</td>\n",
              "    </tr>\n",
              "    <tr>\n",
              "      <th>thumbs_down</th>\n",
              "      <td>3.927082</td>\n",
              "    </tr>\n",
              "    <tr>\n",
              "      <th>stars</th>\n",
              "      <td>-1.527327</td>\n",
              "    </tr>\n",
              "    <tr>\n",
              "      <th>best_score</th>\n",
              "      <td>1.827808</td>\n",
              "    </tr>\n",
              "  </tbody>\n",
              "</table>\n",
              "</div><br><label><b>dtype:</b> float64</label>"
            ]
          },
          "metadata": {},
          "execution_count": 21
        }
      ]
    },
    {
      "cell_type": "markdown",
      "source": [
        "**checking the correlation between data to know how each data are correlated to each other using correlation and heatmpa is used to show this graphicall method**"
      ],
      "metadata": {
        "id": "KBuhhEJzUPQh"
      }
    },
    {
      "cell_type": "code",
      "source": [],
      "metadata": {
        "id": "mH_qQFqSp9js"
      },
      "execution_count": 21,
      "outputs": []
    },
    {
      "cell_type": "code",
      "source": [
        "checkcorel=datainteger.corr()\n",
        "print(checkcorel)"
      ],
      "metadata": {
        "id": "hqMIUENeHgk6",
        "colab": {
          "base_uri": "https://localhost:8080/"
        },
        "outputId": "1767a857-4456-4a20-9276-d0d569f83f4a"
      },
      "execution_count": 22,
      "outputs": [
        {
          "output_type": "stream",
          "name": "stdout",
          "text": [
            "                 Unnamed: 0  recipe_number  recipe_code  user_reputation  \\\n",
            "Unnamed: 0         1.000000      -0.463723    -0.131349        -0.040420   \n",
            "recipe_number     -0.463723       1.000000     0.235564         0.036717   \n",
            "recipe_code       -0.131349       0.235564     1.000000         0.004400   \n",
            "user_reputation   -0.040420       0.036717     0.004400         1.000000   \n",
            "created_at        -0.409018       0.032517    -0.005976         0.113089   \n",
            "reply_count             NaN            NaN          NaN              NaN   \n",
            "thumbs_up         -0.557893       0.119915     0.012622        -0.008527   \n",
            "thumbs_down       -0.388466       0.094696    -0.001056        -0.025203   \n",
            "stars              0.067780      -0.056736    -0.026436         0.020612   \n",
            "best_score        -0.593181       0.113230     0.014811         0.040373   \n",
            "\n",
            "                 created_at  reply_count  thumbs_up  thumbs_down     stars  \\\n",
            "Unnamed: 0        -0.409018          NaN  -0.557893    -0.388466  0.067780   \n",
            "recipe_number      0.032517          NaN   0.119915     0.094696 -0.056736   \n",
            "recipe_code       -0.005976          NaN   0.012622    -0.001056 -0.026436   \n",
            "user_reputation    0.113089          NaN  -0.008527    -0.025203  0.020612   \n",
            "created_at         1.000000          NaN   0.390166     0.286980 -0.050799   \n",
            "reply_count             NaN          NaN        NaN          NaN       NaN   \n",
            "thumbs_up          0.390166          NaN   1.000000     0.595042 -0.049852   \n",
            "thumbs_down        0.286980          NaN   0.595042     1.000000 -0.199938   \n",
            "stars             -0.050799          NaN  -0.049852    -0.199938  1.000000   \n",
            "best_score         0.577063          NaN   0.882566     0.402327 -0.018231   \n",
            "\n",
            "                 best_score  \n",
            "Unnamed: 0        -0.593181  \n",
            "recipe_number      0.113230  \n",
            "recipe_code        0.014811  \n",
            "user_reputation    0.040373  \n",
            "created_at         0.577063  \n",
            "reply_count             NaN  \n",
            "thumbs_up          0.882566  \n",
            "thumbs_down        0.402327  \n",
            "stars             -0.018231  \n",
            "best_score         1.000000  \n"
          ]
        }
      ]
    },
    {
      "cell_type": "markdown",
      "source": [],
      "metadata": {
        "id": "JmEZrEhd4DQT"
      }
    },
    {
      "cell_type": "markdown",
      "source": [
        "**Deleting two columns from the dataset to avoid noise and also deleting based on the correlation**"
      ],
      "metadata": {
        "id": "XZ5SgLh931sk"
      }
    },
    {
      "cell_type": "code",
      "source": [
        "datainteger.drop('reply_count', axis=1, inplace=True)\n",
        "datainteger.drop('Unnamed: 0', axis=1, inplace=True)"
      ],
      "metadata": {
        "id": "UxYh-HKx4CB6"
      },
      "execution_count": 23,
      "outputs": []
    },
    {
      "cell_type": "code",
      "source": [
        "plt.figure(figsize=(10, 8))\n",
        "sns.heatmap(checkcorel,annot=True, cmap=\"coolwarm\")\n"
      ],
      "metadata": {
        "colab": {
          "base_uri": "https://localhost:8080/",
          "height": 795
        },
        "id": "Ewu0XeGBHlHg",
        "outputId": "322c0f0d-50ce-47d0-d0b8-25fdd50f1c22"
      },
      "execution_count": 24,
      "outputs": [
        {
          "output_type": "execute_result",
          "data": {
            "text/plain": [
              "<Axes: >"
            ]
          },
          "metadata": {},
          "execution_count": 24
        },
        {
          "output_type": "display_data",
          "data": {
            "text/plain": [
              "<Figure size 1000x800 with 2 Axes>"
            ],
            "image/png": "[encoded data removed]"
          },
          "metadata": {}
        }
      ]
    },
    {
      "cell_type": "markdown",
      "source": [
        "**Checking the boxplot to see the distribution of data and outliers**"
      ],
      "metadata": {
        "id": "SIEOQocOSXE-"
      }
    },
    {
      "cell_type": "code",
      "source": [
        "for i in datainteger.columns:\n",
        "  sns.boxplot(data=datainteger,x=i)\n",
        "  plt.show()"
      ],
      "metadata": {
        "colab": {
          "base_uri": "https://localhost:8080/",
          "height": 1000
        },
        "id": "BpPBTqjpSaIU",
        "outputId": "2cbc88f9-3fc8-4b12-d4bd-df6575725010"
      },
      "execution_count": 25,
      "outputs": [
        {
          "output_type": "display_data",
          "data": {
            "text/plain": [
              "<Figure size 640x480 with 1 Axes>"
            ],
            "image/png": "[encoded data removed]"
          },
          "metadata": {}
        },
        {
          "output_type": "display_data",
          "data": {
            "text/plain": [
              "<Figure size 640x480 with 1 Axes>"
            ],
            "image/png": "[encoded data removed]"
          },
          "metadata": {}
        },
        {
          "output_type": "display_data",
          "data": {
            "text/plain": [
              "<Figure size 640x480 with 1 Axes>"
            ],
            "image/png": "[encoded data removed]"
          },
          "metadata": {}
        },
        {
          "output_type": "display_data",
          "data": {
            "text/plain": [
              "<Figure size 640x480 with 1 Axes>"
            ],
            "image/png": "[encoded data removed]"
          },
          "metadata": {}
        },
        {
          "output_type": "display_data",
          "data": {
            "text/plain": [
              "<Figure size 640x480 with 1 Axes>"
            ],
            "image/png": "[encoded data removed]"
          },
          "metadata": {}
        },
        {
          "output_type": "display_data",
          "data": {
            "text/plain": [
              "<Figure size 640x480 with 1 Axes>"
            ],
            "image/png": "[encoded data removed]"
          },
          "metadata": {}
        },
        {
          "output_type": "display_data",
          "data": {
            "text/plain": [
              "<Figure size 640x480 with 1 Axes>"
            ],
            "image/png": "[encoded data removed]"
          },
          "metadata": {}
        },
        {
          "output_type": "display_data",
          "data": {
            "text/plain": [
              "<Figure size 640x480 with 1 Axes>"
            ],
            "image/png": "[encoded data removed]"
          },
          "metadata": {}
        }
      ]
    },
    {
      "cell_type": "code",
      "source": [
        "datainteger.hist(bins=30)\n",
        "plt.xlabel(\"Data\")"
      ],
      "metadata": {
        "colab": {
          "base_uri": "https://localhost:8080/",
          "height": 470
        },
        "id": "E7iQYOhDRrN1",
        "outputId": "96b667f9-69e3-4d79-824e-e992cbd6d8d2"
      },
      "execution_count": 26,
      "outputs": [
        {
          "output_type": "execute_result",
          "data": {
            "text/plain": [
              "Text(0.5, 0, 'Data')"
            ]
          },
          "metadata": {},
          "execution_count": 26
        },
        {
          "output_type": "display_data",
          "data": {
            "text/plain": [
              "<Figure size 640x480 with 9 Axes>"
            ],
            "image/png": "[encoded data removed]"
          },
          "metadata": {}
        }
      ]
    },
    {
      "cell_type": "code",
      "source": [
        "plt.boxplot(datainteger)"
      ],
      "metadata": {
        "colab": {
          "base_uri": "https://localhost:8080/",
          "height": 1000
        },
        "id": "rIzZ9t82Y868",
        "outputId": "939d5a27-c891-4669-dee9-68546d080ba2"
      },
      "execution_count": 27,
      "outputs": [
        {
          "output_type": "execute_result",
          "data": {
            "text/plain": [
              "{'whiskers': [<matplotlib.lines.Line2D at 0x7e69399e7210>,\n",
              "  <matplotlib.lines.Line2D at 0x7e6939b29110>,\n",
              "  <matplotlib.lines.Line2D at 0x7e69399c7a50>,\n",
              "  <matplotlib.lines.Line2D at 0x7e69399c7390>,\n",
              "  <matplotlib.lines.Line2D at 0x7e6939b6fd50>,\n",
              "  <matplotlib.lines.Line2D at 0x7e6939b91c10>,\n",
              "  <matplotlib.lines.Line2D at 0x7e6939b9f790>,\n",
              "  <matplotlib.lines.Line2D at 0x7e6939b9cd50>,\n",
              "  <matplotlib.lines.Line2D at 0x7e69399ab910>,\n",
              "  <matplotlib.lines.Line2D at 0x7e69399a9450>,\n",
              "  <matplotlib.lines.Line2D at 0x7e6939ab02d0>,\n",
              "  <matplotlib.lines.Line2D at 0x7e6939c505d0>,\n",
              "  <matplotlib.lines.Line2D at 0x7e6939bf5990>,\n",
              "  <matplotlib.lines.Line2D at 0x7e6939bc0650>,\n",
              "  <matplotlib.lines.Line2D at 0x7e6939ab7710>,\n",
              "  <matplotlib.lines.Line2D at 0x7e6939c5bd50>],\n",
              " 'caps': [<matplotlib.lines.Line2D at 0x7e6939b8b110>,\n",
              "  <matplotlib.lines.Line2D at 0x7e6939b88a90>,\n",
              "  <matplotlib.lines.Line2D at 0x7e69399c7ad0>,\n",
              "  <matplotlib.lines.Line2D at 0x7e6939b83d50>,\n",
              "  <matplotlib.lines.Line2D at 0x7e6939b93390>,\n",
              "  <matplotlib.lines.Line2D at 0x7e6939b92f50>,\n",
              "  <matplotlib.lines.Line2D at 0x7e6939b9f650>,\n",
              "  <matplotlib.lines.Line2D at 0x7e6939b9ec90>,\n",
              "  <matplotlib.lines.Line2D at 0x7e69399a8510>,\n",
              "  <matplotlib.lines.Line2D at 0x7e69399abe90>,\n",
              "  <matplotlib.lines.Line2D at 0x7e6939ac7990>,\n",
              "  <matplotlib.lines.Line2D at 0x7e6939ac4b90>,\n",
              "  <matplotlib.lines.Line2D at 0x7e6939f5a550>,\n",
              "  <matplotlib.lines.Line2D at 0x7e6939abd550>,\n",
              "  <matplotlib.lines.Line2D at 0x7e6939c83190>,\n",
              "  <matplotlib.lines.Line2D at 0x7e6939c3f7d0>],\n",
              " 'boxes': [<matplotlib.lines.Line2D at 0x7e6939933790>,\n",
              "  <matplotlib.lines.Line2D at 0x7e69399c4a90>,\n",
              "  <matplotlib.lines.Line2D at 0x7e6939b78dd0>,\n",
              "  <matplotlib.lines.Line2D at 0x7e6939b9cc50>,\n",
              "  <matplotlib.lines.Line2D at 0x7e69399aa350>,\n",
              "  <matplotlib.lines.Line2D at 0x7e6939ab3f90>,\n",
              "  <matplotlib.lines.Line2D at 0x7e6938192110>,\n",
              "  <matplotlib.lines.Line2D at 0x7e6939ab5150>],\n",
              " 'medians': [<matplotlib.lines.Line2D at 0x7e69399c7b90>,\n",
              "  <matplotlib.lines.Line2D at 0x7e69399ea8d0>,\n",
              "  <matplotlib.lines.Line2D at 0x7e6939b93950>,\n",
              "  <matplotlib.lines.Line2D at 0x7e6939b9fe50>,\n",
              "  <matplotlib.lines.Line2D at 0x7e69399a9350>,\n",
              "  <matplotlib.lines.Line2D at 0x7e6939c45590>,\n",
              "  <matplotlib.lines.Line2D at 0x7e6939c9e510>,\n",
              "  <matplotlib.lines.Line2D at 0x7e693883c650>],\n",
              " 'fliers': [<matplotlib.lines.Line2D at 0x7e69399c4910>,\n",
              "  <matplotlib.lines.Line2D at 0x7e69399e8f90>,\n",
              "  <matplotlib.lines.Line2D at 0x7e6939b90810>,\n",
              "  <matplotlib.lines.Line2D at 0x7e69399aabd0>,\n",
              "  <matplotlib.lines.Line2D at 0x7e6939c72610>,\n",
              "  <matplotlib.lines.Line2D at 0x7e6939f8add0>,\n",
              "  <matplotlib.lines.Line2D at 0x7e6939b50890>,\n",
              "  <matplotlib.lines.Line2D at 0x7e693883cfd0>],\n",
              " 'means': []}"
            ]
          },
          "metadata": {},
          "execution_count": 27
        },
        {
          "output_type": "display_data",
          "data": {
            "text/plain": [
              "<Figure size 640x480 with 1 Axes>"
            ],
            "image/png": "[encoded data removed]"
          },
          "metadata": {}
        }
      ]
    },
    {
      "cell_type": "code",
      "source": [
        "datainteger.skew()"
      ],
      "metadata": {
        "id": "ve2Ltqg3aqTS",
        "colab": {
          "base_uri": "https://localhost:8080/",
          "height": 335
        },
        "outputId": "dfc512f6-4cb7-42cc-b506-3ace5660e083"
      },
      "execution_count": 28,
      "outputs": [
        {
          "output_type": "execute_result",
          "data": {
            "text/plain": [
              "recipe_number      0.458893\n",
              "recipe_code       -0.074551\n",
              "user_reputation   -1.548602\n",
              "created_at         5.430625\n",
              "thumbs_up          2.605970\n",
              "thumbs_down        3.927082\n",
              "stars             -1.527327\n",
              "best_score         1.827808\n",
              "dtype: float64"
            ],
            "text/html": [
              "<div>\n",
              "<style scoped>\n",
              "    .dataframe tbody tr th:only-of-type {\n",
              "        vertical-align: middle;\n",
              "    }\n",
              "\n",
              "    .dataframe tbody tr th {\n",
              "        vertical-align: top;\n",
              "    }\n",
              "\n",
              "    .dataframe thead th {\n",
              "        text-align: right;\n",
              "    }\n",
              "</style>\n",
              "<table border=\"1\" class=\"dataframe\">\n",
              "  <thead>\n",
              "    <tr style=\"text-align: right;\">\n",
              "      <th></th>\n",
              "      <th>0</th>\n",
              "    </tr>\n",
              "  </thead>\n",
              "  <tbody>\n",
              "    <tr>\n",
              "      <th>recipe_number</th>\n",
              "      <td>0.458893</td>\n",
              "    </tr>\n",
              "    <tr>\n",
              "      <th>recipe_code</th>\n",
              "      <td>-0.074551</td>\n",
              "    </tr>\n",
              "    <tr>\n",
              "      <th>user_reputation</th>\n",
              "      <td>-1.548602</td>\n",
              "    </tr>\n",
              "    <tr>\n",
              "      <th>created_at</th>\n",
              "      <td>5.430625</td>\n",
              "    </tr>\n",
              "    <tr>\n",
              "      <th>thumbs_up</th>\n",
              "      <td>2.605970</td>\n",
              "    </tr>\n",
              "    <tr>\n",
              "      <th>thumbs_down</th>\n",
              "      <td>3.927082</td>\n",
              "    </tr>\n",
              "    <tr>\n",
              "      <th>stars</th>\n",
              "      <td>-1.527327</td>\n",
              "    </tr>\n",
              "    <tr>\n",
              "      <th>best_score</th>\n",
              "      <td>1.827808</td>\n",
              "    </tr>\n",
              "  </tbody>\n",
              "</table>\n",
              "</div><br><label><b>dtype:</b> float64</label>"
            ]
          },
          "metadata": {},
          "execution_count": 28
        }
      ]
    },
    {
      "cell_type": "markdown",
      "source": [
        "Below is the kurtosis method to check the thickness of tail and height of peak.If the value is greater than 3 then there is issue with the data whcih need trimming or capping"
      ],
      "metadata": {
        "id": "liK3P5AfUer7"
      }
    },
    {
      "cell_type": "code",
      "source": [
        "datainteger.skew()"
      ],
      "metadata": {
        "colab": {
          "base_uri": "https://localhost:8080/",
          "height": 335
        },
        "id": "ZzUzSidHnNTC",
        "outputId": "cee3aa85-5599-482c-d268-85368bfbfa57"
      },
      "execution_count": 29,
      "outputs": [
        {
          "output_type": "execute_result",
          "data": {
            "text/plain": [
              "recipe_number      0.458893\n",
              "recipe_code       -0.074551\n",
              "user_reputation   -1.548602\n",
              "created_at         5.430625\n",
              "thumbs_up          2.605970\n",
              "thumbs_down        3.927082\n",
              "stars             -1.527327\n",
              "best_score         1.827808\n",
              "dtype: float64"
            ],
            "text/html": [
              "<div>\n",
              "<style scoped>\n",
              "    .dataframe tbody tr th:only-of-type {\n",
              "        vertical-align: middle;\n",
              "    }\n",
              "\n",
              "    .dataframe tbody tr th {\n",
              "        vertical-align: top;\n",
              "    }\n",
              "\n",
              "    .dataframe thead th {\n",
              "        text-align: right;\n",
              "    }\n",
              "</style>\n",
              "<table border=\"1\" class=\"dataframe\">\n",
              "  <thead>\n",
              "    <tr style=\"text-align: right;\">\n",
              "      <th></th>\n",
              "      <th>0</th>\n",
              "    </tr>\n",
              "  </thead>\n",
              "  <tbody>\n",
              "    <tr>\n",
              "      <th>recipe_number</th>\n",
              "      <td>0.458893</td>\n",
              "    </tr>\n",
              "    <tr>\n",
              "      <th>recipe_code</th>\n",
              "      <td>-0.074551</td>\n",
              "    </tr>\n",
              "    <tr>\n",
              "      <th>user_reputation</th>\n",
              "      <td>-1.548602</td>\n",
              "    </tr>\n",
              "    <tr>\n",
              "      <th>created_at</th>\n",
              "      <td>5.430625</td>\n",
              "    </tr>\n",
              "    <tr>\n",
              "      <th>thumbs_up</th>\n",
              "      <td>2.605970</td>\n",
              "    </tr>\n",
              "    <tr>\n",
              "      <th>thumbs_down</th>\n",
              "      <td>3.927082</td>\n",
              "    </tr>\n",
              "    <tr>\n",
              "      <th>stars</th>\n",
              "      <td>-1.527327</td>\n",
              "    </tr>\n",
              "    <tr>\n",
              "      <th>best_score</th>\n",
              "      <td>1.827808</td>\n",
              "    </tr>\n",
              "  </tbody>\n",
              "</table>\n",
              "</div><br><label><b>dtype:</b> float64</label>"
            ]
          },
          "metadata": {},
          "execution_count": 29
        }
      ]
    },
    {
      "cell_type": "code",
      "source": [
        "datainteger['stars'] = pt.fit_transform(datainteger[['stars']])"
      ],
      "metadata": {
        "id": "3gxUwNYdt3hM"
      },
      "execution_count": 30,
      "outputs": []
    },
    {
      "cell_type": "code",
      "source": [
        "plt.boxplot(datainteger)"
      ],
      "metadata": {
        "colab": {
          "base_uri": "https://localhost:8080/",
          "height": 1000
        },
        "id": "s3lZhoVlljsO",
        "outputId": "5d325603-0fc2-484d-e8ee-441af77c2970"
      },
      "execution_count": 31,
      "outputs": [
        {
          "output_type": "execute_result",
          "data": {
            "text/plain": [
              "{'whiskers': [<matplotlib.lines.Line2D at 0x7e693889e950>,\n",
              "  <matplotlib.lines.Line2D at 0x7e693889f310>,\n",
              "  <matplotlib.lines.Line2D at 0x7e69388b29d0>,\n",
              "  <matplotlib.lines.Line2D at 0x7e69388b32d0>,\n",
              "  <matplotlib.lines.Line2D at 0x7e69388be950>,\n",
              "  <matplotlib.lines.Line2D at 0x7e69388bf310>,\n",
              "  <matplotlib.lines.Line2D at 0x7e69388caa90>,\n",
              "  <matplotlib.lines.Line2D at 0x7e69388cb390>,\n",
              "  <matplotlib.lines.Line2D at 0x7e69388d6a10>,\n",
              "  <matplotlib.lines.Line2D at 0x7e69388d7290>,\n",
              "  <matplotlib.lines.Line2D at 0x7e69388e6850>,\n",
              "  <matplotlib.lines.Line2D at 0x7e69388e7190>,\n",
              "  <matplotlib.lines.Line2D at 0x7e69388f6690>,\n",
              "  <matplotlib.lines.Line2D at 0x7e69388f6f50>,\n",
              "  <matplotlib.lines.Line2D at 0x7e69389024d0>,\n",
              "  <matplotlib.lines.Line2D at 0x7e6938902d50>],\n",
              " 'caps': [<matplotlib.lines.Line2D at 0x7e693889fc50>,\n",
              "  <matplotlib.lines.Line2D at 0x7e69388b0650>,\n",
              "  <matplotlib.lines.Line2D at 0x7e69388b3b90>,\n",
              "  <matplotlib.lines.Line2D at 0x7e69388bc490>,\n",
              "  <matplotlib.lines.Line2D at 0x7e69388bfc10>,\n",
              "  <matplotlib.lines.Line2D at 0x7e69388c85d0>,\n",
              "  <matplotlib.lines.Line2D at 0x7e69388cbc10>,\n",
              "  <matplotlib.lines.Line2D at 0x7e69388d4590>,\n",
              "  <matplotlib.lines.Line2D at 0x7e69388d7b50>,\n",
              "  <matplotlib.lines.Line2D at 0x7e69388e4450>,\n",
              "  <matplotlib.lines.Line2D at 0x7e69388e7a90>,\n",
              "  <matplotlib.lines.Line2D at 0x7e69388f4390>,\n",
              "  <matplotlib.lines.Line2D at 0x7e69388f7810>,\n",
              "  <matplotlib.lines.Line2D at 0x7e69389001d0>,\n",
              "  <matplotlib.lines.Line2D at 0x7e69389035d0>,\n",
              "  <matplotlib.lines.Line2D at 0x7e6938903ed0>],\n",
              " 'boxes': [<matplotlib.lines.Line2D at 0x7e693889e0d0>,\n",
              "  <matplotlib.lines.Line2D at 0x7e69388b21d0>,\n",
              "  <matplotlib.lines.Line2D at 0x7e69388be110>,\n",
              "  <matplotlib.lines.Line2D at 0x7e69388ca1d0>,\n",
              "  <matplotlib.lines.Line2D at 0x7e69388d6190>,\n",
              "  <matplotlib.lines.Line2D at 0x7e69388e6090>,\n",
              "  <matplotlib.lines.Line2D at 0x7e69388f5e10>,\n",
              "  <matplotlib.lines.Line2D at 0x7e6938901c90>],\n",
              " 'medians': [<matplotlib.lines.Line2D at 0x7e69388b0f90>,\n",
              "  <matplotlib.lines.Line2D at 0x7e69388bce10>,\n",
              "  <matplotlib.lines.Line2D at 0x7e69388c8e50>,\n",
              "  <matplotlib.lines.Line2D at 0x7e69388d4f50>,\n",
              "  <matplotlib.lines.Line2D at 0x7e69388e4d90>,\n",
              "  <matplotlib.lines.Line2D at 0x7e69388f4c50>,\n",
              "  <matplotlib.lines.Line2D at 0x7e6938900ad0>,\n",
              "  <matplotlib.lines.Line2D at 0x7e6938710790>],\n",
              " 'fliers': [<matplotlib.lines.Line2D at 0x7e69388b1890>,\n",
              "  <matplotlib.lines.Line2D at 0x7e69388bd790>,\n",
              "  <matplotlib.lines.Line2D at 0x7e69388c9790>,\n",
              "  <matplotlib.lines.Line2D at 0x7e69388d5850>,\n",
              "  <matplotlib.lines.Line2D at 0x7e69388e5650>,\n",
              "  <matplotlib.lines.Line2D at 0x7e69388f5490>,\n",
              "  <matplotlib.lines.Line2D at 0x7e6938901390>,\n",
              "  <matplotlib.lines.Line2D at 0x7e6938711010>],\n",
              " 'means': []}"
            ]
          },
          "metadata": {},
          "execution_count": 31
        },
        {
          "output_type": "display_data",
          "data": {
            "text/plain": [
              "<Figure size 640x480 with 1 Axes>"
            ],
            "image/png": "[encoded data removed]"
          },
          "metadata": {}
        }
      ]
    },
    {
      "cell_type": "code",
      "source": [],
      "metadata": {
        "id": "dx9c8AYXm5N7"
      },
      "execution_count": 31,
      "outputs": []
    },
    {
      "cell_type": "markdown",
      "source": [
        "**Split Data into Training and Testing Sets:**"
      ],
      "metadata": {
        "id": "2EETJw0kWZIY"
      }
    },
    {
      "cell_type": "code",
      "source": [
        "X = datainteger[['recipe_number',\n",
        " 'recipe_code',\n",
        " 'user_reputation',\n",
        " 'created_at',\n",
        " 'thumbs_up',\n",
        " 'thumbs_down',\n",
        " 'stars']]"
      ],
      "metadata": {
        "id": "7zzvu2F3xlRL"
      },
      "execution_count": 32,
      "outputs": []
    },
    {
      "cell_type": "code",
      "source": [
        "y = datainteger['best_score']"
      ],
      "metadata": {
        "id": "H0T-IR1x9T5k"
      },
      "execution_count": 33,
      "outputs": []
    },
    {
      "cell_type": "code",
      "source": [
        "select=SelectKBest(score_func=f_classif)\n",
        "X_new=select.fit_transform(X,y)"
      ],
      "metadata": {
        "id": "4eJqu5_8Eheg"
      },
      "execution_count": 34,
      "outputs": []
    },
    {
      "cell_type": "code",
      "source": [
        "X_train,X_test,y_train,y_test=train_test_split(X,y,test_size=0.2,random_state=42)"
      ],
      "metadata": {
        "id": "FhM4Isos68Iw"
      },
      "execution_count": 35,
      "outputs": []
    },
    {
      "cell_type": "markdown",
      "source": [
        "**Checking the shape of train and test data**"
      ],
      "metadata": {
        "id": "QRCXrQiXTO2k"
      }
    },
    {
      "cell_type": "code",
      "source": [
        "X_train.shape\n",
        "X_test.shape\n",
        "print(f\"X train{X_train.shape}X_test{X_test.shape}y_train{y_train.shape}y_test{y_test.shape}\")"
      ],
      "metadata": {
        "colab": {
          "base_uri": "https://localhost:8080/"
        },
        "id": "-GgZ__5y87H1",
        "outputId": "f5c2c982-83e3-455a-d00e-939eb1d1d331"
      },
      "execution_count": 36,
      "outputs": [
        {
          "output_type": "stream",
          "name": "stdout",
          "text": [
            "X train(14545, 7)X_test(3637, 7)y_train(14545,)y_test(3637,)\n"
          ]
        }
      ]
    },
    {
      "cell_type": "markdown",
      "source": [
        "**Feature Selection Method**"
      ],
      "metadata": {
        "id": "KQqNb97TTUus"
      }
    },
    {
      "cell_type": "code",
      "source": [
        "feature_score=pd.DataFrame({'features':X.columns, 'score':select.scores_}).sort_values(by='score',ascending=False)\n",
        "feature_score"
      ],
      "metadata": {
        "id": "G2e5lRr6CxvA",
        "colab": {
          "base_uri": "https://localhost:8080/",
          "height": 269
        },
        "outputId": "20b82a78-449e-43e1-e593-fa7f0f16e2e5"
      },
      "execution_count": null,
      "outputs": [
        {
          "output_type": "execute_result",
          "data": {
            "text/plain": [
              "          features       score\n",
              "4        thumbs_up  704.497457\n",
              "3       created_at  125.390301\n",
              "5      thumbs_down   68.608002\n",
              "2  user_reputation    3.503914\n",
              "0    recipe_number    2.004319\n",
              "6            stars    1.945052\n",
              "1      recipe_code    1.126666"
            ],
            "text/html": [
              "\n",
              "  <div id=\"df-97ddf43e-a654-47e1-8e88-4e33a2ac1977\" class=\"colab-df-container\">\n",
              "    <div>\n",
              "<style scoped>\n",
              "    .dataframe tbody tr th:only-of-type {\n",
              "        vertical-align: middle;\n",
              "    }\n",
              "\n",
              "    .dataframe tbody tr th {\n",
              "        vertical-align: top;\n",
              "    }\n",
              "\n",
              "    .dataframe thead th {\n",
              "        text-align: right;\n",
              "    }\n",
              "</style>\n",
              "<table border=\"1\" class=\"dataframe\">\n",
              "  <thead>\n",
              "    <tr style=\"text-align: right;\">\n",
              "      <th></th>\n",
              "      <th>features</th>\n",
              "      <th>score</th>\n",
              "    </tr>\n",
              "  </thead>\n",
              "  <tbody>\n",
              "    <tr>\n",
              "      <th>4</th>\n",
              "      <td>thumbs_up</td>\n",
              "      <td>704.497457</td>\n",
              "    </tr>\n",
              "    <tr>\n",
              "      <th>3</th>\n",
              "      <td>created_at</td>\n",
              "      <td>125.390301</td>\n",
              "    </tr>\n",
              "    <tr>\n",
              "      <th>5</th>\n",
              "      <td>thumbs_down</td>\n",
              "      <td>68.608002</td>\n",
              "    </tr>\n",
              "    <tr>\n",
              "      <th>2</th>\n",
              "      <td>user_reputation</td>\n",
              "      <td>3.503914</td>\n",
              "    </tr>\n",
              "    <tr>\n",
              "      <th>0</th>\n",
              "      <td>recipe_number</td>\n",
              "      <td>2.004319</td>\n",
              "    </tr>\n",
              "    <tr>\n",
              "      <th>6</th>\n",
              "      <td>stars</td>\n",
              "      <td>1.945052</td>\n",
              "    </tr>\n",
              "    <tr>\n",
              "      <th>1</th>\n",
              "      <td>recipe_code</td>\n",
              "      <td>1.126666</td>\n",
              "    </tr>\n",
              "  </tbody>\n",
              "</table>\n",
              "</div>\n",
              "    <div class=\"colab-df-buttons\">\n",
              "\n",
              "  <div class=\"colab-df-container\">\n",
              "    <button class=\"colab-df-convert\" onclick=\"convertToInteractive('df-97ddf43e-a654-47e1-8e88-4e33a2ac1977')\"\n",
              "            title=\"Convert this dataframe to an interactive table.\"\n",
              "            style=\"display:none;\">\n",
              "\n",
              "  <svg xmlns=\"http://www.w3.org/2000/svg\" height=\"24px\" viewBox=\"0 -960 960 960\">\n",
              "    <path d=\"M120-120v-720h720v720H120Zm60-500h600v-160H180v160Zm220 220h160v-160H400v160Zm0 220h160v-160H400v160ZM180-400h160v-160H180v160Zm440 0h160v-160H620v160ZM180-180h160v-160H180v160Zm440 0h160v-160H620v160Z\"/>\n",
              "  </svg>\n",
              "    </button>\n",
              "\n",
              "  <style>\n",
              "    .colab-df-container {\n",
              "      display:flex;\n",
              "      gap: 12px;\n",
              "    }\n",
              "\n",
              "    .colab-df-convert {\n",
              "      background-color: #E8F0FE;\n",
              "      border: none;\n",
              "      border-radius: 50%;\n",
              "      cursor: pointer;\n",
              "      display: none;\n",
              "      fill: #1967D2;\n",
              "      height: 32px;\n",
              "      padding: 0 0 0 0;\n",
              "      width: 32px;\n",
              "    }\n",
              "\n",
              "    .colab-df-convert:hover {\n",
              "      background-color: #E2EBFA;\n",
              "      box-shadow: 0px 1px 2px rgba(60, 64, 67, 0.3), 0px 1px 3px 1px rgba(60, 64, 67, 0.15);\n",
              "      fill: #174EA6;\n",
              "    }\n",
              "\n",
              "    .colab-df-buttons div {\n",
              "      margin-bottom: 4px;\n",
              "    }\n",
              "\n",
              "    [theme=dark] .colab-df-convert {\n",
              "      background-color: #3B4455;\n",
              "      fill: #D2E3FC;\n",
              "    }\n",
              "\n",
              "    [theme=dark] .colab-df-convert:hover {\n",
              "      background-color: #434B5C;\n",
              "      box-shadow: 0px 1px 3px 1px rgba(0, 0, 0, 0.15);\n",
              "      filter: drop-shadow(0px 1px 2px rgba(0, 0, 0, 0.3));\n",
              "      fill: #FFFFFF;\n",
              "    }\n",
              "  </style>\n",
              "\n",
              "    <script>\n",
              "      const buttonEl =\n",
              "        document.querySelector('#df-97ddf43e-a654-47e1-8e88-4e33a2ac1977 button.colab-df-convert');\n",
              "      buttonEl.style.display =\n",
              "        google.colab.kernel.accessAllowed ? 'block' : 'none';\n",
              "\n",
              "      async function convertToInteractive(key) {\n",
              "        const element = document.querySelector('#df-97ddf43e-a654-47e1-8e88-4e33a2ac1977');\n",
              "        const dataTable =\n",
              "          await google.colab.kernel.invokeFunction('convertToInteractive',\n",
              "                                                    [key], {});\n",
              "        if (!dataTable) return;\n",
              "\n",
              "        const docLinkHtml = 'Like what you see? Visit the ' +\n",
              "          '<a target=\"_blank\" href=https://colab.research.google.com/notebooks/data_table.ipynb>data table notebook</a>'\n",
              "          + ' to learn more about interactive tables.';\n",
              "        element.innerHTML = '';\n",
              "        dataTable['output_type'] = 'display_data';\n",
              "        await google.colab.output.renderOutput(dataTable, element);\n",
              "        const docLink = document.createElement('div');\n",
              "        docLink.innerHTML = docLinkHtml;\n",
              "        element.appendChild(docLink);\n",
              "      }\n",
              "    </script>\n",
              "  </div>\n",
              "\n",
              "\n",
              "<div id=\"df-982614b0-779e-43f4-8cfa-ce6598e3e0e3\">\n",
              "  <button class=\"colab-df-quickchart\" onclick=\"quickchart('df-982614b0-779e-43f4-8cfa-ce6598e3e0e3')\"\n",
              "            title=\"Suggest charts\"\n",
              "            style=\"display:none;\">\n",
              "\n",
              "<svg xmlns=\"http://www.w3.org/2000/svg\" height=\"24px\"viewBox=\"0 0 24 24\"\n",
              "     width=\"24px\">\n",
              "    <g>\n",
              "        <path d=\"M19 3H5c-1.1 0-2 .9-2 2v14c0 1.1.9 2 2 2h14c1.1 0 2-.9 2-2V5c0-1.1-.9-2-2-2zM9 17H7v-7h2v7zm4 0h-2V7h2v10zm4 0h-2v-4h2v4z\"/>\n",
              "    </g>\n",
              "</svg>\n",
              "  </button>\n",
              "\n",
              "<style>\n",
              "  .colab-df-quickchart {\n",
              "      --bg-color: #E8F0FE;\n",
              "      --fill-color: #1967D2;\n",
              "      --hover-bg-color: #E2EBFA;\n",
              "      --hover-fill-color: #174EA6;\n",
              "      --disabled-fill-color: #AAA;\n",
              "      --disabled-bg-color: #DDD;\n",
              "  }\n",
              "\n",
              "  [theme=dark] .colab-df-quickchart {\n",
              "      --bg-color: #3B4455;\n",
              "      --fill-color: #D2E3FC;\n",
              "      --hover-bg-color: #434B5C;\n",
              "      --hover-fill-color: #FFFFFF;\n",
              "      --disabled-bg-color: #3B4455;\n",
              "      --disabled-fill-color: #666;\n",
              "  }\n",
              "\n",
              "  .colab-df-quickchart {\n",
              "    background-color: var(--bg-color);\n",
              "    border: none;\n",
              "    border-radius: 50%;\n",
              "    cursor: pointer;\n",
              "    display: none;\n",
              "    fill: var(--fill-color);\n",
              "    height: 32px;\n",
              "    padding: 0;\n",
              "    width: 32px;\n",
              "  }\n",
              "\n",
              "  .colab-df-quickchart:hover {\n",
              "    background-color: var(--hover-bg-color);\n",
              "    box-shadow: 0 1px 2px rgba(60, 64, 67, 0.3), 0 1px 3px 1px rgba(60, 64, 67, 0.15);\n",
              "    fill: var(--button-hover-fill-color);\n",
              "  }\n",
              "\n",
              "  .colab-df-quickchart-complete:disabled,\n",
              "  .colab-df-quickchart-complete:disabled:hover {\n",
              "    background-color: var(--disabled-bg-color);\n",
              "    fill: var(--disabled-fill-color);\n",
              "    box-shadow: none;\n",
              "  }\n",
              "\n",
              "  .colab-df-spinner {\n",
              "    border: 2px solid var(--fill-color);\n",
              "    border-color: transparent;\n",
              "    border-bottom-color: var(--fill-color);\n",
              "    animation:\n",
              "      spin 1s steps(1) infinite;\n",
              "  }\n",
              "\n",
              "  @keyframes spin {\n",
              "    0% {\n",
              "      border-color: transparent;\n",
              "      border-bottom-color: var(--fill-color);\n",
              "      border-left-color: var(--fill-color);\n",
              "    }\n",
              "    20% {\n",
              "      border-color: transparent;\n",
              "      border-left-color: var(--fill-color);\n",
              "      border-top-color: var(--fill-color);\n",
              "    }\n",
              "    30% {\n",
              "      border-color: transparent;\n",
              "      border-left-color: var(--fill-color);\n",
              "      border-top-color: var(--fill-color);\n",
              "      border-right-color: var(--fill-color);\n",
              "    }\n",
              "    40% {\n",
              "      border-color: transparent;\n",
              "      border-right-color: var(--fill-color);\n",
              "      border-top-color: var(--fill-color);\n",
              "    }\n",
              "    60% {\n",
              "      border-color: transparent;\n",
              "      border-right-color: var(--fill-color);\n",
              "    }\n",
              "    80% {\n",
              "      border-color: transparent;\n",
              "      border-right-color: var(--fill-color);\n",
              "      border-bottom-color: var(--fill-color);\n",
              "    }\n",
              "    90% {\n",
              "      border-color: transparent;\n",
              "      border-bottom-color: var(--fill-color);\n",
              "    }\n",
              "  }\n",
              "</style>\n",
              "\n",
              "  <script>\n",
              "    async function quickchart(key) {\n",
              "      const quickchartButtonEl =\n",
              "        document.querySelector('#' + key + ' button');\n",
              "      quickchartButtonEl.disabled = true;  // To prevent multiple clicks.\n",
              "      quickchartButtonEl.classList.add('colab-df-spinner');\n",
              "      try {\n",
              "        const charts = await google.colab.kernel.invokeFunction(\n",
              "            'suggestCharts', [key], {});\n",
              "      } catch (error) {\n",
              "        console.error('Error during call to suggestCharts:', error);\n",
              "      }\n",
              "      quickchartButtonEl.classList.remove('colab-df-spinner');\n",
              "      quickchartButtonEl.classList.add('colab-df-quickchart-complete');\n",
              "    }\n",
              "    (() => {\n",
              "      let quickchartButtonEl =\n",
              "        document.querySelector('#df-982614b0-779e-43f4-8cfa-ce6598e3e0e3 button');\n",
              "      quickchartButtonEl.style.display =\n",
              "        google.colab.kernel.accessAllowed ? 'block' : 'none';\n",
              "    })();\n",
              "  </script>\n",
              "</div>\n",
              "\n",
              "  <div id=\"id_824320b0-131d-479c-9c08-2f58f88260f6\">\n",
              "    <style>\n",
              "      .colab-df-generate {\n",
              "        background-color: #E8F0FE;\n",
              "        border: none;\n",
              "        border-radius: 50%;\n",
              "        cursor: pointer;\n",
              "        display: none;\n",
              "        fill: #1967D2;\n",
              "        height: 32px;\n",
              "        padding: 0 0 0 0;\n",
              "        width: 32px;\n",
              "      }\n",
              "\n",
              "      .colab-df-generate:hover {\n",
              "        background-color: #E2EBFA;\n",
              "        box-shadow: 0px 1px 2px rgba(60, 64, 67, 0.3), 0px 1px 3px 1px rgba(60, 64, 67, 0.15);\n",
              "        fill: #174EA6;\n",
              "      }\n",
              "\n",
              "      [theme=dark] .colab-df-generate {\n",
              "        background-color: #3B4455;\n",
              "        fill: #D2E3FC;\n",
              "      }\n",
              "\n",
              "      [theme=dark] .colab-df-generate:hover {\n",
              "        background-color: #434B5C;\n",
              "        box-shadow: 0px 1px 3px 1px rgba(0, 0, 0, 0.15);\n",
              "        filter: drop-shadow(0px 1px 2px rgba(0, 0, 0, 0.3));\n",
              "        fill: #FFFFFF;\n",
              "      }\n",
              "    </style>\n",
              "    <button class=\"colab-df-generate\" onclick=\"generateWithVariable('feature_score')\"\n",
              "            title=\"Generate code using this dataframe.\"\n",
              "            style=\"display:none;\">\n",
              "\n",
              "  <svg xmlns=\"http://www.w3.org/2000/svg\" height=\"24px\"viewBox=\"0 0 24 24\"\n",
              "       width=\"24px\">\n",
              "    <path d=\"M7,19H8.4L18.45,9,17,7.55,7,17.6ZM5,21V16.75L18.45,3.32a2,2,0,0,1,2.83,0l1.4,1.43a1.91,1.91,0,0,1,.58,1.4,1.91,1.91,0,0,1-.58,1.4L9.25,21ZM18.45,9,17,7.55Zm-12,3A5.31,5.31,0,0,0,4.9,8.1,5.31,5.31,0,0,0,1,6.5,5.31,5.31,0,0,0,4.9,4.9,5.31,5.31,0,0,0,6.5,1,5.31,5.31,0,0,0,8.1,4.9,5.31,5.31,0,0,0,12,6.5,5.46,5.46,0,0,0,6.5,12Z\"/>\n",
              "  </svg>\n",
              "    </button>\n",
              "    <script>\n",
              "      (() => {\n",
              "      const buttonEl =\n",
              "        document.querySelector('#id_824320b0-131d-479c-9c08-2f58f88260f6 button.colab-df-generate');\n",
              "      buttonEl.style.display =\n",
              "        google.colab.kernel.accessAllowed ? 'block' : 'none';\n",
              "\n",
              "      buttonEl.onclick = () => {\n",
              "        google.colab.notebook.generateWithVariable('feature_score');\n",
              "      }\n",
              "      })();\n",
              "    </script>\n",
              "  </div>\n",
              "\n",
              "    </div>\n",
              "  </div>\n"
            ],
            "application/vnd.google.colaboratory.intrinsic+json": {
              "type": "dataframe",
              "variable_name": "feature_score",
              "summary": "{\n  \"name\": \"feature_score\",\n  \"rows\": 7,\n  \"fields\": [\n    {\n      \"column\": \"features\",\n      \"properties\": {\n        \"dtype\": \"string\",\n        \"num_unique_values\": 7,\n        \"samples\": [\n          \"thumbs_up\",\n          \"created_at\",\n          \"stars\"\n        ],\n        \"semantic_type\": \"\",\n        \"description\": \"\"\n      }\n    },\n    {\n      \"column\": \"score\",\n      \"properties\": {\n        \"dtype\": \"number\",\n        \"std\": 257.9492498870498,\n        \"min\": 1.1266659046615939,\n        \"max\": 704.4974567052328,\n        \"num_unique_values\": 7,\n        \"samples\": [\n          704.4974567052328,\n          125.39030124555491,\n          1.9450519298755002\n        ],\n        \"semantic_type\": \"\",\n        \"description\": \"\"\n      }\n    }\n  ]\n}"
            }
          },
          "metadata": {},
          "execution_count": 37
        }
      ]
    },
    {
      "cell_type": "markdown",
      "source": [
        "**Implimenting Models**\n",
        "\n",
        "\n",
        "* Linear Regression\n",
        "* GradientBoostingRegressor\n",
        "* RandomForestRegressor\n",
        "* SVR\n",
        "* DecisionTreeRegressor\n",
        "\n",
        "\n",
        "\n",
        "\n",
        "\n"
      ],
      "metadata": {
        "id": "R7plPTxByX5_"
      }
    },
    {
      "cell_type": "code",
      "source": [
        "models={'Linear Regression':LinearRegression(),\n",
        "        'GradientBoostingRegressor':GradientBoostingRegressor(),\n",
        "        'Random Foresr Regressor':RandomForestRegressor(),\n",
        "        'SVR':SVR(),\n",
        "        'DecisionTreeRegressor':DecisionTreeRegressor()}\n",
        "\n",
        "# Train and evaluate models\n",
        "results =[]\n",
        "\n",
        "for name,model in models.items():\n",
        "  model.fit(X_train,y_train)\n",
        "  y_pred = model.predict(X_test)\n",
        "  mse=mean_squared_error(y_test, y_pred)\n",
        "  rmse = np.sqrt(mse)\n",
        "  mae=mean_absolute_error(y_test,y_pred)\n",
        "  r2square=r2_score(y_test,y_pred)\n",
        "\n",
        "  results.append({\n",
        "            'Model': name,\n",
        "            'MSE': mse,\n",
        "            'RMSE': rmse,\n",
        "            'MAE': mae,\n",
        "            'R²': r2square\n",
        "        })\n",
        "\n",
        "resultdf = pd.DataFrame(results)\n",
        "resultdf\n",
        "\n",
        "\n",
        "\n"
      ],
      "metadata": {
        "colab": {
          "base_uri": "https://localhost:8080/",
          "height": 206
        },
        "id": "owLxropMYE6M",
        "outputId": "de5a58b4-d3f0-4ba8-d800-82f7ebfe31c5"
      },
      "execution_count": null,
      "outputs": [
        {
          "output_type": "execute_result",
          "data": {
            "text/plain": [
              "                       Model       MSE      RMSE       MAE        R²\n",
              "0          Linear Regression  0.026560  0.162971  0.074895  0.891827\n",
              "1  GradientBoostingRegressor  0.019367  0.139165  0.019316  0.921122\n",
              "2    Random Foresr Regressor  0.018835  0.137242  0.010929  0.923287\n",
              "3                        SVR  0.056359  0.237401  0.140363  0.770457\n",
              "4      DecisionTreeRegressor  0.040175  0.200438  0.013031  0.836372"
            ],
            "text/html": [
              "\n",
              "  <div id=\"df-4bb2ce26-4769-41e2-8882-26ac9846d8b7\" class=\"colab-df-container\">\n",
              "    <div>\n",
              "<style scoped>\n",
              "    .dataframe tbody tr th:only-of-type {\n",
              "        vertical-align: middle;\n",
              "    }\n",
              "\n",
              "    .dataframe tbody tr th {\n",
              "        vertical-align: top;\n",
              "    }\n",
              "\n",
              "    .dataframe thead th {\n",
              "        text-align: right;\n",
              "    }\n",
              "</style>\n",
              "<table border=\"1\" class=\"dataframe\">\n",
              "  <thead>\n",
              "    <tr style=\"text-align: right;\">\n",
              "      <th></th>\n",
              "      <th>Model</th>\n",
              "      <th>MSE</th>\n",
              "      <th>RMSE</th>\n",
              "      <th>MAE</th>\n",
              "      <th>R²</th>\n",
              "    </tr>\n",
              "  </thead>\n",
              "  <tbody>\n",
              "    <tr>\n",
              "      <th>0</th>\n",
              "      <td>Linear Regression</td>\n",
              "      <td>0.026560</td>\n",
              "      <td>0.162971</td>\n",
              "      <td>0.074895</td>\n",
              "      <td>0.891827</td>\n",
              "    </tr>\n",
              "    <tr>\n",
              "      <th>1</th>\n",
              "      <td>GradientBoostingRegressor</td>\n",
              "      <td>0.019367</td>\n",
              "      <td>0.139165</td>\n",
              "      <td>0.019316</td>\n",
              "      <td>0.921122</td>\n",
              "    </tr>\n",
              "    <tr>\n",
              "      <th>2</th>\n",
              "      <td>Random Foresr Regressor</td>\n",
              "      <td>0.018835</td>\n",
              "      <td>0.137242</td>\n",
              "      <td>0.010929</td>\n",
              "      <td>0.923287</td>\n",
              "    </tr>\n",
              "    <tr>\n",
              "      <th>3</th>\n",
              "      <td>SVR</td>\n",
              "      <td>0.056359</td>\n",
              "      <td>0.237401</td>\n",
              "      <td>0.140363</td>\n",
              "      <td>0.770457</td>\n",
              "    </tr>\n",
              "    <tr>\n",
              "      <th>4</th>\n",
              "      <td>DecisionTreeRegressor</td>\n",
              "      <td>0.040175</td>\n",
              "      <td>0.200438</td>\n",
              "      <td>0.013031</td>\n",
              "      <td>0.836372</td>\n",
              "    </tr>\n",
              "  </tbody>\n",
              "</table>\n",
              "</div>\n",
              "    <div class=\"colab-df-buttons\">\n",
              "\n",
              "  <div class=\"colab-df-container\">\n",
              "    <button class=\"colab-df-convert\" onclick=\"convertToInteractive('df-4bb2ce26-4769-41e2-8882-26ac9846d8b7')\"\n",
              "            title=\"Convert this dataframe to an interactive table.\"\n",
              "            style=\"display:none;\">\n",
              "\n",
              "  <svg xmlns=\"http://www.w3.org/2000/svg\" height=\"24px\" viewBox=\"0 -960 960 960\">\n",
              "    <path d=\"M120-120v-720h720v720H120Zm60-500h600v-160H180v160Zm220 220h160v-160H400v160Zm0 220h160v-160H400v160ZM180-400h160v-160H180v160Zm440 0h160v-160H620v160ZM180-180h160v-160H180v160Zm440 0h160v-160H620v160Z\"/>\n",
              "  </svg>\n",
              "    </button>\n",
              "\n",
              "  <style>\n",
              "    .colab-df-container {\n",
              "      display:flex;\n",
              "      gap: 12px;\n",
              "    }\n",
              "\n",
              "    .colab-df-convert {\n",
              "      background-color: #E8F0FE;\n",
              "      border: none;\n",
              "      border-radius: 50%;\n",
              "      cursor: pointer;\n",
              "      display: none;\n",
              "      fill: #1967D2;\n",
              "      height: 32px;\n",
              "      padding: 0 0 0 0;\n",
              "      width: 32px;\n",
              "    }\n",
              "\n",
              "    .colab-df-convert:hover {\n",
              "      background-color: #E2EBFA;\n",
              "      box-shadow: 0px 1px 2px rgba(60, 64, 67, 0.3), 0px 1px 3px 1px rgba(60, 64, 67, 0.15);\n",
              "      fill: #174EA6;\n",
              "    }\n",
              "\n",
              "    .colab-df-buttons div {\n",
              "      margin-bottom: 4px;\n",
              "    }\n",
              "\n",
              "    [theme=dark] .colab-df-convert {\n",
              "      background-color: #3B4455;\n",
              "      fill: #D2E3FC;\n",
              "    }\n",
              "\n",
              "    [theme=dark] .colab-df-convert:hover {\n",
              "      background-color: #434B5C;\n",
              "      box-shadow: 0px 1px 3px 1px rgba(0, 0, 0, 0.15);\n",
              "      filter: drop-shadow(0px 1px 2px rgba(0, 0, 0, 0.3));\n",
              "      fill: #FFFFFF;\n",
              "    }\n",
              "  </style>\n",
              "\n",
              "    <script>\n",
              "      const buttonEl =\n",
              "        document.querySelector('#df-4bb2ce26-4769-41e2-8882-26ac9846d8b7 button.colab-df-convert');\n",
              "      buttonEl.style.display =\n",
              "        google.colab.kernel.accessAllowed ? 'block' : 'none';\n",
              "\n",
              "      async function convertToInteractive(key) {\n",
              "        const element = document.querySelector('#df-4bb2ce26-4769-41e2-8882-26ac9846d8b7');\n",
              "        const dataTable =\n",
              "          await google.colab.kernel.invokeFunction('convertToInteractive',\n",
              "                                                    [key], {});\n",
              "        if (!dataTable) return;\n",
              "\n",
              "        const docLinkHtml = 'Like what you see? Visit the ' +\n",
              "          '<a target=\"_blank\" href=https://colab.research.google.com/notebooks/data_table.ipynb>data table notebook</a>'\n",
              "          + ' to learn more about interactive tables.';\n",
              "        element.innerHTML = '';\n",
              "        dataTable['output_type'] = 'display_data';\n",
              "        await google.colab.output.renderOutput(dataTable, element);\n",
              "        const docLink = document.createElement('div');\n",
              "        docLink.innerHTML = docLinkHtml;\n",
              "        element.appendChild(docLink);\n",
              "      }\n",
              "    </script>\n",
              "  </div>\n",
              "\n",
              "\n",
              "<div id=\"df-5371826f-4fd3-4dc7-b843-451485f3a303\">\n",
              "  <button class=\"colab-df-quickchart\" onclick=\"quickchart('df-5371826f-4fd3-4dc7-b843-451485f3a303')\"\n",
              "            title=\"Suggest charts\"\n",
              "            style=\"display:none;\">\n",
              "\n",
              "<svg xmlns=\"http://www.w3.org/2000/svg\" height=\"24px\"viewBox=\"0 0 24 24\"\n",
              "     width=\"24px\">\n",
              "    <g>\n",
              "        <path d=\"M19 3H5c-1.1 0-2 .9-2 2v14c0 1.1.9 2 2 2h14c1.1 0 2-.9 2-2V5c0-1.1-.9-2-2-2zM9 17H7v-7h2v7zm4 0h-2V7h2v10zm4 0h-2v-4h2v4z\"/>\n",
              "    </g>\n",
              "</svg>\n",
              "  </button>\n",
              "\n",
              "<style>\n",
              "  .colab-df-quickchart {\n",
              "      --bg-color: #E8F0FE;\n",
              "      --fill-color: #1967D2;\n",
              "      --hover-bg-color: #E2EBFA;\n",
              "      --hover-fill-color: #174EA6;\n",
              "      --disabled-fill-color: #AAA;\n",
              "      --disabled-bg-color: #DDD;\n",
              "  }\n",
              "\n",
              "  [theme=dark] .colab-df-quickchart {\n",
              "      --bg-color: #3B4455;\n",
              "      --fill-color: #D2E3FC;\n",
              "      --hover-bg-color: #434B5C;\n",
              "      --hover-fill-color: #FFFFFF;\n",
              "      --disabled-bg-color: #3B4455;\n",
              "      --disabled-fill-color: #666;\n",
              "  }\n",
              "\n",
              "  .colab-df-quickchart {\n",
              "    background-color: var(--bg-color);\n",
              "    border: none;\n",
              "    border-radius: 50%;\n",
              "    cursor: pointer;\n",
              "    display: none;\n",
              "    fill: var(--fill-color);\n",
              "    height: 32px;\n",
              "    padding: 0;\n",
              "    width: 32px;\n",
              "  }\n",
              "\n",
              "  .colab-df-quickchart:hover {\n",
              "    background-color: var(--hover-bg-color);\n",
              "    box-shadow: 0 1px 2px rgba(60, 64, 67, 0.3), 0 1px 3px 1px rgba(60, 64, 67, 0.15);\n",
              "    fill: var(--button-hover-fill-color);\n",
              "  }\n",
              "\n",
              "  .colab-df-quickchart-complete:disabled,\n",
              "  .colab-df-quickchart-complete:disabled:hover {\n",
              "    background-color: var(--disabled-bg-color);\n",
              "    fill: var(--disabled-fill-color);\n",
              "    box-shadow: none;\n",
              "  }\n",
              "\n",
              "  .colab-df-spinner {\n",
              "    border: 2px solid var(--fill-color);\n",
              "    border-color: transparent;\n",
              "    border-bottom-color: var(--fill-color);\n",
              "    animation:\n",
              "      spin 1s steps(1) infinite;\n",
              "  }\n",
              "\n",
              "  @keyframes spin {\n",
              "    0% {\n",
              "      border-color: transparent;\n",
              "      border-bottom-color: var(--fill-color);\n",
              "      border-left-color: var(--fill-color);\n",
              "    }\n",
              "    20% {\n",
              "      border-color: transparent;\n",
              "      border-left-color: var(--fill-color);\n",
              "      border-top-color: var(--fill-color);\n",
              "    }\n",
              "    30% {\n",
              "      border-color: transparent;\n",
              "      border-left-color: var(--fill-color);\n",
              "      border-top-color: var(--fill-color);\n",
              "      border-right-color: var(--fill-color);\n",
              "    }\n",
              "    40% {\n",
              "      border-color: transparent;\n",
              "      border-right-color: var(--fill-color);\n",
              "      border-top-color: var(--fill-color);\n",
              "    }\n",
              "    60% {\n",
              "      border-color: transparent;\n",
              "      border-right-color: var(--fill-color);\n",
              "    }\n",
              "    80% {\n",
              "      border-color: transparent;\n",
              "      border-right-color: var(--fill-color);\n",
              "      border-bottom-color: var(--fill-color);\n",
              "    }\n",
              "    90% {\n",
              "      border-color: transparent;\n",
              "      border-bottom-color: var(--fill-color);\n",
              "    }\n",
              "  }\n",
              "</style>\n",
              "\n",
              "  <script>\n",
              "    async function quickchart(key) {\n",
              "      const quickchartButtonEl =\n",
              "        document.querySelector('#' + key + ' button');\n",
              "      quickchartButtonEl.disabled = true;  // To prevent multiple clicks.\n",
              "      quickchartButtonEl.classList.add('colab-df-spinner');\n",
              "      try {\n",
              "        const charts = await google.colab.kernel.invokeFunction(\n",
              "            'suggestCharts', [key], {});\n",
              "      } catch (error) {\n",
              "        console.error('Error during call to suggestCharts:', error);\n",
              "      }\n",
              "      quickchartButtonEl.classList.remove('colab-df-spinner');\n",
              "      quickchartButtonEl.classList.add('colab-df-quickchart-complete');\n",
              "    }\n",
              "    (() => {\n",
              "      let quickchartButtonEl =\n",
              "        document.querySelector('#df-5371826f-4fd3-4dc7-b843-451485f3a303 button');\n",
              "      quickchartButtonEl.style.display =\n",
              "        google.colab.kernel.accessAllowed ? 'block' : 'none';\n",
              "    })();\n",
              "  </script>\n",
              "</div>\n",
              "\n",
              "  <div id=\"id_5f4d0681-7125-4f32-b15d-107030e06e66\">\n",
              "    <style>\n",
              "      .colab-df-generate {\n",
              "        background-color: #E8F0FE;\n",
              "        border: none;\n",
              "        border-radius: 50%;\n",
              "        cursor: pointer;\n",
              "        display: none;\n",
              "        fill: #1967D2;\n",
              "        height: 32px;\n",
              "        padding: 0 0 0 0;\n",
              "        width: 32px;\n",
              "      }\n",
              "\n",
              "      .colab-df-generate:hover {\n",
              "        background-color: #E2EBFA;\n",
              "        box-shadow: 0px 1px 2px rgba(60, 64, 67, 0.3), 0px 1px 3px 1px rgba(60, 64, 67, 0.15);\n",
              "        fill: #174EA6;\n",
              "      }\n",
              "\n",
              "      [theme=dark] .colab-df-generate {\n",
              "        background-color: #3B4455;\n",
              "        fill: #D2E3FC;\n",
              "      }\n",
              "\n",
              "      [theme=dark] .colab-df-generate:hover {\n",
              "        background-color: #434B5C;\n",
              "        box-shadow: 0px 1px 3px 1px rgba(0, 0, 0, 0.15);\n",
              "        filter: drop-shadow(0px 1px 2px rgba(0, 0, 0, 0.3));\n",
              "        fill: #FFFFFF;\n",
              "      }\n",
              "    </style>\n",
              "    <button class=\"colab-df-generate\" onclick=\"generateWithVariable('resultdf')\"\n",
              "            title=\"Generate code using this dataframe.\"\n",
              "            style=\"display:none;\">\n",
              "\n",
              "  <svg xmlns=\"http://www.w3.org/2000/svg\" height=\"24px\"viewBox=\"0 0 24 24\"\n",
              "       width=\"24px\">\n",
              "    <path d=\"M7,19H8.4L18.45,9,17,7.55,7,17.6ZM5,21V16.75L18.45,3.32a2,2,0,0,1,2.83,0l1.4,1.43a1.91,1.91,0,0,1,.58,1.4,1.91,1.91,0,0,1-.58,1.4L9.25,21ZM18.45,9,17,7.55Zm-12,3A5.31,5.31,0,0,0,4.9,8.1,5.31,5.31,0,0,0,1,6.5,5.31,5.31,0,0,0,4.9,4.9,5.31,5.31,0,0,0,6.5,1,5.31,5.31,0,0,0,8.1,4.9,5.31,5.31,0,0,0,12,6.5,5.46,5.46,0,0,0,6.5,12Z\"/>\n",
              "  </svg>\n",
              "    </button>\n",
              "    <script>\n",
              "      (() => {\n",
              "      const buttonEl =\n",
              "        document.querySelector('#id_5f4d0681-7125-4f32-b15d-107030e06e66 button.colab-df-generate');\n",
              "      buttonEl.style.display =\n",
              "        google.colab.kernel.accessAllowed ? 'block' : 'none';\n",
              "\n",
              "      buttonEl.onclick = () => {\n",
              "        google.colab.notebook.generateWithVariable('resultdf');\n",
              "      }\n",
              "      })();\n",
              "    </script>\n",
              "  </div>\n",
              "\n",
              "    </div>\n",
              "  </div>\n"
            ],
            "application/vnd.google.colaboratory.intrinsic+json": {
              "type": "dataframe",
              "variable_name": "resultdf",
              "summary": "{\n  \"name\": \"resultdf\",\n  \"rows\": 5,\n  \"fields\": [\n    {\n      \"column\": \"Model\",\n      \"properties\": {\n        \"dtype\": \"string\",\n        \"num_unique_values\": 5,\n        \"samples\": [\n          \"GradientBoostingRegressor\",\n          \"DecisionTreeRegressor\",\n          \"Random Foresr Regressor\"\n        ],\n        \"semantic_type\": \"\",\n        \"description\": \"\"\n      }\n    },\n    {\n      \"column\": \"MSE\",\n      \"properties\": {\n        \"dtype\": \"number\",\n        \"std\": 0.015987362167214896,\n        \"min\": 0.018835286753189517,\n        \"max\": 0.05635935252574047,\n        \"num_unique_values\": 5,\n        \"samples\": [\n          0.019366817764722228,\n          0.04017529922560492,\n          0.018835286753189517\n        ],\n        \"semantic_type\": \"\",\n        \"description\": \"\"\n      }\n    },\n    {\n      \"column\": \"RMSE\",\n      \"properties\": {\n        \"dtype\": \"number\",\n        \"std\": 0.04299583233991257,\n        \"min\": 0.13724170923297888,\n        \"max\": 0.2374012479447833,\n        \"num_unique_values\": 5,\n        \"samples\": [\n          0.13916471451026022,\n          0.20043776895985677,\n          0.13724170923297888\n        ],\n        \"semantic_type\": \"\",\n        \"description\": \"\"\n      }\n    },\n    {\n      \"column\": \"MAE\",\n      \"properties\": {\n        \"dtype\": \"number\",\n        \"std\": 0.05613678181620765,\n        \"min\": 0.010929013224676582,\n        \"max\": 0.14036253716739283,\n        \"num_unique_values\": 5,\n        \"samples\": [\n          0.01931616199107475,\n          0.013030501379885576,\n          0.010929013224676582\n        ],\n        \"semantic_type\": \"\",\n        \"description\": \"\"\n      }\n    },\n    {\n      \"column\": \"R\\u00b2\",\n      \"properties\": {\n        \"dtype\": \"number\",\n        \"std\": 0.06511404609749066,\n        \"min\": 0.7704570998015308,\n        \"max\": 0.9232867988427955,\n        \"num_unique_values\": 5,\n        \"samples\": [\n          0.9211219554855742,\n          0.8363722383720641,\n          0.9232867988427955\n        ],\n        \"semantic_type\": \"\",\n        \"description\": \"\"\n      }\n    }\n  ]\n}"
            }
          },
          "metadata": {},
          "execution_count": 43
        }
      ]
    },
    {
      "cell_type": "markdown",
      "source": [
        "**Choosing Gradient Boosting Regressor alogortitham to create model**"
      ],
      "metadata": {
        "id": "P0p35m7_Kl16"
      }
    },
    {
      "cell_type": "markdown",
      "source": [
        "Gradient Boosting was having the highest score of 0.92 so selected this algoritham\n"
      ],
      "metadata": {
        "id": "euFqhTKHMvaP"
      }
    },
    {
      "cell_type": "code",
      "source": [
        "performpipeline = Pipeline([\n",
        "    ('imputer', SimpleImputer(strategy='mean')),  # Optional: only if data has NaNs\n",
        "    ('regressor', GradientBoostingRegressor())\n",
        "])\n",
        "\n",
        "performpipeline.fit(X_train,y_train)\n",
        "y_pred=performpipeline.predict(X_test)\n",
        "r2squarefinal=r2_score(y_test,y_pred)\n",
        "\n",
        "print(\"R2score\")\n",
        "print(r2squarefinal)"
      ],
      "metadata": {
        "colab": {
          "base_uri": "https://localhost:8080/"
        },
        "id": "w-yRUiX5CkDY",
        "outputId": "77e806bd-cc65-454e-9b90-f399a31660e6"
      },
      "execution_count": 44,
      "outputs": [
        {
          "output_type": "stream",
          "name": "stdout",
          "text": [
            "R2score\n",
            "0.9213349049153412\n"
          ]
        }
      ]
    }
  ],
  "metadata": {
    "colab": {
      "provenance": [],
      "authorship_tag": "ABX9TyNPlIY3CHnT6l+pyQ2zlaTg",
      "include_colab_link": true
    },
    "kernelspec": {
      "display_name": "Python 3",
      "name": "python3"
    },
    "language_info": {
      "name": "python"
    }
  },
  "nbformat": 4,
  "nbformat_minor": 0
}